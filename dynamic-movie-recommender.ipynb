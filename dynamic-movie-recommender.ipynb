{
 "cells": [
  {
   "cell_type": "markdown",
   "id": "f8b51036",
   "metadata": {},
   "source": [
    "# import os library for os work"
   ]
  },
  {
   "cell_type": "code",
   "execution_count": 1,
   "id": "16879907",
   "metadata": {},
   "outputs": [],
   "source": [
    "import os"
   ]
  },
  {
   "cell_type": "code",
   "execution_count": 2,
   "id": "89b73a2d",
   "metadata": {},
   "outputs": [
    {
     "name": "stdout",
     "output_type": "stream",
     "text": [
      "['movies.csv', 'tmdb_5000_credits.csv', 'tmdb_5000_movies.csv']\n"
     ]
    }
   ],
   "source": [
    "proj_path = os.getcwd()\n",
    "file_path = proj_path+'\\\\data\\\\'\n",
    "data_files = os.listdir(file_path)\n",
    "print(data_files)"
   ]
  },
  {
   "cell_type": "markdown",
   "id": "95e440fe",
   "metadata": {},
   "source": [
    "# create variables for true and false values"
   ]
  },
  {
   "cell_type": "code",
   "execution_count": 3,
   "id": "a2168489",
   "metadata": {},
   "outputs": [],
   "source": [
    "t = True\n",
    "f = False"
   ]
  },
  {
   "cell_type": "markdown",
   "id": "77c48fae",
   "metadata": {},
   "source": [
    "# importing analysis files"
   ]
  },
  {
   "cell_type": "code",
   "execution_count": 4,
   "id": "26c3a43a",
   "metadata": {},
   "outputs": [],
   "source": [
    "import pandas as pd\n",
    "import numpy as np"
   ]
  },
  {
   "cell_type": "markdown",
   "id": "b3a2bb5d",
   "metadata": {},
   "source": [
    "# converting all csv / files into dataframe"
   ]
  },
  {
   "cell_type": "code",
   "execution_count": 5,
   "id": "ac3ce451",
   "metadata": {},
   "outputs": [
    {
     "name": "stdout",
     "output_type": "stream",
     "text": [
      "{'movies_csv':          budget                                             genres  \\\n",
      "0     237000000  [{\"id\": 28, \"name\": \"Action\"}, {\"id\": 12, \"nam...   \n",
      "1     300000000  [{\"id\": 12, \"name\": \"Adventure\"}, {\"id\": 14, \"...   \n",
      "2     245000000  [{\"id\": 28, \"name\": \"Action\"}, {\"id\": 12, \"nam...   \n",
      "3     250000000  [{\"id\": 28, \"name\": \"Action\"}, {\"id\": 80, \"nam...   \n",
      "4     260000000  [{\"id\": 28, \"name\": \"Action\"}, {\"id\": 12, \"nam...   \n",
      "...         ...                                                ...   \n",
      "4798     220000  [{\"id\": 28, \"name\": \"Action\"}, {\"id\": 80, \"nam...   \n",
      "4799       9000  [{\"id\": 35, \"name\": \"Comedy\"}, {\"id\": 10749, \"...   \n",
      "4800          0  [{\"id\": 35, \"name\": \"Comedy\"}, {\"id\": 18, \"nam...   \n",
      "4801          0                                                 []   \n",
      "4802          0                [{\"id\": 99, \"name\": \"Documentary\"}]   \n",
      "\n",
      "                                               homepage      id  \\\n",
      "0                           http://www.avatarmovie.com/   19995   \n",
      "1          http://disney.go.com/disneypictures/pirates/     285   \n",
      "2           http://www.sonypictures.com/movies/spectre/  206647   \n",
      "3                    http://www.thedarkknightrises.com/   49026   \n",
      "4                  http://movies.disney.com/john-carter   49529   \n",
      "...                                                 ...     ...   \n",
      "4798                                                NaN    9367   \n",
      "4799                                                NaN   72766   \n",
      "4800  http://www.hallmarkchannel.com/signedsealeddel...  231617   \n",
      "4801                        http://shanghaicalling.com/  126186   \n",
      "4802                                                NaN   25975   \n",
      "\n",
      "                                               keywords original_language  \\\n",
      "0     [{\"id\": 1463, \"name\": \"culture clash\"}, {\"id\":...                en   \n",
      "1     [{\"id\": 270, \"name\": \"ocean\"}, {\"id\": 726, \"na...                en   \n",
      "2     [{\"id\": 470, \"name\": \"spy\"}, {\"id\": 818, \"name...                en   \n",
      "3     [{\"id\": 849, \"name\": \"dc comics\"}, {\"id\": 853,...                en   \n",
      "4     [{\"id\": 818, \"name\": \"based on novel\"}, {\"id\":...                en   \n",
      "...                                                 ...               ...   \n",
      "4798  [{\"id\": 5616, \"name\": \"united states\\u2013mexi...                es   \n",
      "4799                                                 []                en   \n",
      "4800  [{\"id\": 248, \"name\": \"date\"}, {\"id\": 699, \"nam...                en   \n",
      "4801                                                 []                en   \n",
      "4802  [{\"id\": 1523, \"name\": \"obsession\"}, {\"id\": 224...                en   \n",
      "\n",
      "                                original_title  \\\n",
      "0                                       Avatar   \n",
      "1     Pirates of the Caribbean: At World's End   \n",
      "2                                      Spectre   \n",
      "3                        The Dark Knight Rises   \n",
      "4                                  John Carter   \n",
      "...                                        ...   \n",
      "4798                               El Mariachi   \n",
      "4799                                 Newlyweds   \n",
      "4800                 Signed, Sealed, Delivered   \n",
      "4801                          Shanghai Calling   \n",
      "4802                         My Date with Drew   \n",
      "\n",
      "                                               overview  popularity  \\\n",
      "0     In the 22nd century, a paraplegic Marine is di...  150.437577   \n",
      "1     Captain Barbossa, long believed to be dead, ha...  139.082615   \n",
      "2     A cryptic message from Bond’s past sends him o...  107.376788   \n",
      "3     Following the death of District Attorney Harve...  112.312950   \n",
      "4     John Carter is a war-weary, former military ca...   43.926995   \n",
      "...                                                 ...         ...   \n",
      "4798  El Mariachi just wants to play his guitar and ...   14.269792   \n",
      "4799  A newlywed couple's honeymoon is upended by th...    0.642552   \n",
      "4800  \"Signed, Sealed, Delivered\" introduces a dedic...    1.444476   \n",
      "4801  When ambitious New York attorney Sam is sent t...    0.857008   \n",
      "4802  Ever since the second grade when he first saw ...    1.929883   \n",
      "\n",
      "                                   production_companies  \\\n",
      "0     [{\"name\": \"Ingenious Film Partners\", \"id\": 289...   \n",
      "1     [{\"name\": \"Walt Disney Pictures\", \"id\": 2}, {\"...   \n",
      "2     [{\"name\": \"Columbia Pictures\", \"id\": 5}, {\"nam...   \n",
      "3     [{\"name\": \"Legendary Pictures\", \"id\": 923}, {\"...   \n",
      "4           [{\"name\": \"Walt Disney Pictures\", \"id\": 2}]   \n",
      "...                                                 ...   \n",
      "4798           [{\"name\": \"Columbia Pictures\", \"id\": 5}]   \n",
      "4799                                                 []   \n",
      "4800  [{\"name\": \"Front Street Pictures\", \"id\": 3958}...   \n",
      "4801                                                 []   \n",
      "4802  [{\"name\": \"rusty bear entertainment\", \"id\": 87...   \n",
      "\n",
      "                                   production_countries release_date  \\\n",
      "0     [{\"iso_3166_1\": \"US\", \"name\": \"United States o...   2009-12-10   \n",
      "1     [{\"iso_3166_1\": \"US\", \"name\": \"United States o...   2007-05-19   \n",
      "2     [{\"iso_3166_1\": \"GB\", \"name\": \"United Kingdom\"...   2015-10-26   \n",
      "3     [{\"iso_3166_1\": \"US\", \"name\": \"United States o...   2012-07-16   \n",
      "4     [{\"iso_3166_1\": \"US\", \"name\": \"United States o...   2012-03-07   \n",
      "...                                                 ...          ...   \n",
      "4798  [{\"iso_3166_1\": \"MX\", \"name\": \"Mexico\"}, {\"iso...   1992-09-04   \n",
      "4799                                                 []   2011-12-26   \n",
      "4800  [{\"iso_3166_1\": \"US\", \"name\": \"United States o...   2013-10-13   \n",
      "4801  [{\"iso_3166_1\": \"US\", \"name\": \"United States o...   2012-05-03   \n",
      "4802  [{\"iso_3166_1\": \"US\", \"name\": \"United States o...   2005-08-05   \n",
      "\n",
      "         revenue  runtime                                   spoken_languages  \\\n",
      "0     2787965087    162.0  [{\"iso_639_1\": \"en\", \"name\": \"English\"}, {\"iso...   \n",
      "1      961000000    169.0           [{\"iso_639_1\": \"en\", \"name\": \"English\"}]   \n",
      "2      880674609    148.0  [{\"iso_639_1\": \"fr\", \"name\": \"Fran\\u00e7ais\"},...   \n",
      "3     1084939099    165.0           [{\"iso_639_1\": \"en\", \"name\": \"English\"}]   \n",
      "4      284139100    132.0           [{\"iso_639_1\": \"en\", \"name\": \"English\"}]   \n",
      "...          ...      ...                                                ...   \n",
      "4798     2040920     81.0      [{\"iso_639_1\": \"es\", \"name\": \"Espa\\u00f1ol\"}]   \n",
      "4799           0     85.0                                                 []   \n",
      "4800           0    120.0           [{\"iso_639_1\": \"en\", \"name\": \"English\"}]   \n",
      "4801           0     98.0           [{\"iso_639_1\": \"en\", \"name\": \"English\"}]   \n",
      "4802           0     90.0           [{\"iso_639_1\": \"en\", \"name\": \"English\"}]   \n",
      "\n",
      "        status                                            tagline  \\\n",
      "0     Released                        Enter the World of Pandora.   \n",
      "1     Released     At the end of the world, the adventure begins.   \n",
      "2     Released                              A Plan No One Escapes   \n",
      "3     Released                                    The Legend Ends   \n",
      "4     Released               Lost in our world, found in another.   \n",
      "...        ...                                                ...   \n",
      "4798  Released  He didn't come looking for trouble, but troubl...   \n",
      "4799  Released  A newlywed couple's honeymoon is upended by th...   \n",
      "4800  Released                                                NaN   \n",
      "4801  Released                           A New Yorker in Shanghai   \n",
      "4802  Released                                                NaN   \n",
      "\n",
      "                                         title  vote_average  vote_count  \n",
      "0                                       Avatar           7.2       11800  \n",
      "1     Pirates of the Caribbean: At World's End           6.9        4500  \n",
      "2                                      Spectre           6.3        4466  \n",
      "3                        The Dark Knight Rises           7.6        9106  \n",
      "4                                  John Carter           6.1        2124  \n",
      "...                                        ...           ...         ...  \n",
      "4798                               El Mariachi           6.6         238  \n",
      "4799                                 Newlyweds           5.9           5  \n",
      "4800                 Signed, Sealed, Delivered           7.0           6  \n",
      "4801                          Shanghai Calling           5.7           7  \n",
      "4802                         My Date with Drew           6.3          16  \n",
      "\n",
      "[4803 rows x 20 columns], 'credits_csv':       movie_id                                     title  \\\n",
      "0        19995                                    Avatar   \n",
      "1          285  Pirates of the Caribbean: At World's End   \n",
      "2       206647                                   Spectre   \n",
      "3        49026                     The Dark Knight Rises   \n",
      "4        49529                               John Carter   \n",
      "...        ...                                       ...   \n",
      "4798      9367                               El Mariachi   \n",
      "4799     72766                                 Newlyweds   \n",
      "4800    231617                 Signed, Sealed, Delivered   \n",
      "4801    126186                          Shanghai Calling   \n",
      "4802     25975                         My Date with Drew   \n",
      "\n",
      "                                                   cast  \\\n",
      "0     [{\"cast_id\": 242, \"character\": \"Jake Sully\", \"...   \n",
      "1     [{\"cast_id\": 4, \"character\": \"Captain Jack Spa...   \n",
      "2     [{\"cast_id\": 1, \"character\": \"James Bond\", \"cr...   \n",
      "3     [{\"cast_id\": 2, \"character\": \"Bruce Wayne / Ba...   \n",
      "4     [{\"cast_id\": 5, \"character\": \"John Carter\", \"c...   \n",
      "...                                                 ...   \n",
      "4798  [{\"cast_id\": 1, \"character\": \"El Mariachi\", \"c...   \n",
      "4799  [{\"cast_id\": 1, \"character\": \"Buzzy\", \"credit_...   \n",
      "4800  [{\"cast_id\": 8, \"character\": \"Oliver O\\u2019To...   \n",
      "4801  [{\"cast_id\": 3, \"character\": \"Sam\", \"credit_id...   \n",
      "4802  [{\"cast_id\": 3, \"character\": \"Herself\", \"credi...   \n",
      "\n",
      "                                                   crew  \n",
      "0     [{\"credit_id\": \"52fe48009251416c750aca23\", \"de...  \n",
      "1     [{\"credit_id\": \"52fe4232c3a36847f800b579\", \"de...  \n",
      "2     [{\"credit_id\": \"54805967c3a36829b5002c41\", \"de...  \n",
      "3     [{\"credit_id\": \"52fe4781c3a36847f81398c3\", \"de...  \n",
      "4     [{\"credit_id\": \"52fe479ac3a36847f813eaa3\", \"de...  \n",
      "...                                                 ...  \n",
      "4798  [{\"credit_id\": \"52fe44eec3a36847f80b280b\", \"de...  \n",
      "4799  [{\"credit_id\": \"52fe487dc3a368484e0fb013\", \"de...  \n",
      "4800  [{\"credit_id\": \"52fe4df3c3a36847f8275ecf\", \"de...  \n",
      "4801  [{\"credit_id\": \"52fe4ad9c3a368484e16a36b\", \"de...  \n",
      "4802  [{\"credit_id\": \"58ce021b9251415a390165d9\", \"de...  \n",
      "\n",
      "[4803 rows x 4 columns]}\n"
     ]
    }
   ],
   "source": [
    "movies = []\n",
    "df_list = {}\n",
    "count=0\n",
    "for i in data_files:\n",
    "    file_split = i.split('_')\n",
    "    file_name = file_split[-1]\n",
    "    df_name = file_name.replace('.','_')\n",
    "    df_list[df_name] = pd.read_csv(file_path+f'\\\\{i}')\n",
    "print(df_list)"
   ]
  },
  {
   "cell_type": "code",
   "execution_count": 6,
   "id": "bfc6988a",
   "metadata": {},
   "outputs": [
    {
     "data": {
      "text/plain": [
       "dict_keys(['movies_csv', 'credits_csv'])"
      ]
     },
     "execution_count": 6,
     "metadata": {},
     "output_type": "execute_result"
    }
   ],
   "source": [
    "dataframes = df_list.keys()\n",
    "dataframes"
   ]
  },
  {
   "cell_type": "markdown",
   "id": "eb6459d1",
   "metadata": {},
   "source": [
    "# loading data frames"
   ]
  },
  {
   "cell_type": "code",
   "execution_count": 7,
   "id": "c8def1e6",
   "metadata": {
    "scrolled": false
   },
   "outputs": [
    {
     "data": {
      "text/html": [
       "<div>\n",
       "<style scoped>\n",
       "    .dataframe tbody tr th:only-of-type {\n",
       "        vertical-align: middle;\n",
       "    }\n",
       "\n",
       "    .dataframe tbody tr th {\n",
       "        vertical-align: top;\n",
       "    }\n",
       "\n",
       "    .dataframe thead th {\n",
       "        text-align: right;\n",
       "    }\n",
       "</style>\n",
       "<table border=\"1\" class=\"dataframe\">\n",
       "  <thead>\n",
       "    <tr style=\"text-align: right;\">\n",
       "      <th></th>\n",
       "      <th>budget</th>\n",
       "      <th>genres</th>\n",
       "      <th>homepage</th>\n",
       "      <th>id</th>\n",
       "      <th>keywords</th>\n",
       "      <th>original_language</th>\n",
       "      <th>original_title</th>\n",
       "      <th>overview</th>\n",
       "      <th>popularity</th>\n",
       "      <th>production_companies</th>\n",
       "      <th>production_countries</th>\n",
       "      <th>release_date</th>\n",
       "      <th>revenue</th>\n",
       "      <th>runtime</th>\n",
       "      <th>spoken_languages</th>\n",
       "      <th>status</th>\n",
       "      <th>tagline</th>\n",
       "      <th>title</th>\n",
       "      <th>vote_average</th>\n",
       "      <th>vote_count</th>\n",
       "    </tr>\n",
       "  </thead>\n",
       "  <tbody>\n",
       "    <tr>\n",
       "      <th>0</th>\n",
       "      <td>237000000</td>\n",
       "      <td>[{\"id\": 28, \"name\": \"Action\"}, {\"id\": 12, \"nam...</td>\n",
       "      <td>http://www.avatarmovie.com/</td>\n",
       "      <td>19995</td>\n",
       "      <td>[{\"id\": 1463, \"name\": \"culture clash\"}, {\"id\":...</td>\n",
       "      <td>en</td>\n",
       "      <td>Avatar</td>\n",
       "      <td>In the 22nd century, a paraplegic Marine is di...</td>\n",
       "      <td>150.437577</td>\n",
       "      <td>[{\"name\": \"Ingenious Film Partners\", \"id\": 289...</td>\n",
       "      <td>[{\"iso_3166_1\": \"US\", \"name\": \"United States o...</td>\n",
       "      <td>2009-12-10</td>\n",
       "      <td>2787965087</td>\n",
       "      <td>162.0</td>\n",
       "      <td>[{\"iso_639_1\": \"en\", \"name\": \"English\"}, {\"iso...</td>\n",
       "      <td>Released</td>\n",
       "      <td>Enter the World of Pandora.</td>\n",
       "      <td>Avatar</td>\n",
       "      <td>7.2</td>\n",
       "      <td>11800</td>\n",
       "    </tr>\n",
       "    <tr>\n",
       "      <th>1</th>\n",
       "      <td>300000000</td>\n",
       "      <td>[{\"id\": 12, \"name\": \"Adventure\"}, {\"id\": 14, \"...</td>\n",
       "      <td>http://disney.go.com/disneypictures/pirates/</td>\n",
       "      <td>285</td>\n",
       "      <td>[{\"id\": 270, \"name\": \"ocean\"}, {\"id\": 726, \"na...</td>\n",
       "      <td>en</td>\n",
       "      <td>Pirates of the Caribbean: At World's End</td>\n",
       "      <td>Captain Barbossa, long believed to be dead, ha...</td>\n",
       "      <td>139.082615</td>\n",
       "      <td>[{\"name\": \"Walt Disney Pictures\", \"id\": 2}, {\"...</td>\n",
       "      <td>[{\"iso_3166_1\": \"US\", \"name\": \"United States o...</td>\n",
       "      <td>2007-05-19</td>\n",
       "      <td>961000000</td>\n",
       "      <td>169.0</td>\n",
       "      <td>[{\"iso_639_1\": \"en\", \"name\": \"English\"}]</td>\n",
       "      <td>Released</td>\n",
       "      <td>At the end of the world, the adventure begins.</td>\n",
       "      <td>Pirates of the Caribbean: At World's End</td>\n",
       "      <td>6.9</td>\n",
       "      <td>4500</td>\n",
       "    </tr>\n",
       "    <tr>\n",
       "      <th>2</th>\n",
       "      <td>245000000</td>\n",
       "      <td>[{\"id\": 28, \"name\": \"Action\"}, {\"id\": 12, \"nam...</td>\n",
       "      <td>http://www.sonypictures.com/movies/spectre/</td>\n",
       "      <td>206647</td>\n",
       "      <td>[{\"id\": 470, \"name\": \"spy\"}, {\"id\": 818, \"name...</td>\n",
       "      <td>en</td>\n",
       "      <td>Spectre</td>\n",
       "      <td>A cryptic message from Bond’s past sends him o...</td>\n",
       "      <td>107.376788</td>\n",
       "      <td>[{\"name\": \"Columbia Pictures\", \"id\": 5}, {\"nam...</td>\n",
       "      <td>[{\"iso_3166_1\": \"GB\", \"name\": \"United Kingdom\"...</td>\n",
       "      <td>2015-10-26</td>\n",
       "      <td>880674609</td>\n",
       "      <td>148.0</td>\n",
       "      <td>[{\"iso_639_1\": \"fr\", \"name\": \"Fran\\u00e7ais\"},...</td>\n",
       "      <td>Released</td>\n",
       "      <td>A Plan No One Escapes</td>\n",
       "      <td>Spectre</td>\n",
       "      <td>6.3</td>\n",
       "      <td>4466</td>\n",
       "    </tr>\n",
       "    <tr>\n",
       "      <th>3</th>\n",
       "      <td>250000000</td>\n",
       "      <td>[{\"id\": 28, \"name\": \"Action\"}, {\"id\": 80, \"nam...</td>\n",
       "      <td>http://www.thedarkknightrises.com/</td>\n",
       "      <td>49026</td>\n",
       "      <td>[{\"id\": 849, \"name\": \"dc comics\"}, {\"id\": 853,...</td>\n",
       "      <td>en</td>\n",
       "      <td>The Dark Knight Rises</td>\n",
       "      <td>Following the death of District Attorney Harve...</td>\n",
       "      <td>112.312950</td>\n",
       "      <td>[{\"name\": \"Legendary Pictures\", \"id\": 923}, {\"...</td>\n",
       "      <td>[{\"iso_3166_1\": \"US\", \"name\": \"United States o...</td>\n",
       "      <td>2012-07-16</td>\n",
       "      <td>1084939099</td>\n",
       "      <td>165.0</td>\n",
       "      <td>[{\"iso_639_1\": \"en\", \"name\": \"English\"}]</td>\n",
       "      <td>Released</td>\n",
       "      <td>The Legend Ends</td>\n",
       "      <td>The Dark Knight Rises</td>\n",
       "      <td>7.6</td>\n",
       "      <td>9106</td>\n",
       "    </tr>\n",
       "    <tr>\n",
       "      <th>4</th>\n",
       "      <td>260000000</td>\n",
       "      <td>[{\"id\": 28, \"name\": \"Action\"}, {\"id\": 12, \"nam...</td>\n",
       "      <td>http://movies.disney.com/john-carter</td>\n",
       "      <td>49529</td>\n",
       "      <td>[{\"id\": 818, \"name\": \"based on novel\"}, {\"id\":...</td>\n",
       "      <td>en</td>\n",
       "      <td>John Carter</td>\n",
       "      <td>John Carter is a war-weary, former military ca...</td>\n",
       "      <td>43.926995</td>\n",
       "      <td>[{\"name\": \"Walt Disney Pictures\", \"id\": 2}]</td>\n",
       "      <td>[{\"iso_3166_1\": \"US\", \"name\": \"United States o...</td>\n",
       "      <td>2012-03-07</td>\n",
       "      <td>284139100</td>\n",
       "      <td>132.0</td>\n",
       "      <td>[{\"iso_639_1\": \"en\", \"name\": \"English\"}]</td>\n",
       "      <td>Released</td>\n",
       "      <td>Lost in our world, found in another.</td>\n",
       "      <td>John Carter</td>\n",
       "      <td>6.1</td>\n",
       "      <td>2124</td>\n",
       "    </tr>\n",
       "    <tr>\n",
       "      <th>...</th>\n",
       "      <td>...</td>\n",
       "      <td>...</td>\n",
       "      <td>...</td>\n",
       "      <td>...</td>\n",
       "      <td>...</td>\n",
       "      <td>...</td>\n",
       "      <td>...</td>\n",
       "      <td>...</td>\n",
       "      <td>...</td>\n",
       "      <td>...</td>\n",
       "      <td>...</td>\n",
       "      <td>...</td>\n",
       "      <td>...</td>\n",
       "      <td>...</td>\n",
       "      <td>...</td>\n",
       "      <td>...</td>\n",
       "      <td>...</td>\n",
       "      <td>...</td>\n",
       "      <td>...</td>\n",
       "      <td>...</td>\n",
       "    </tr>\n",
       "    <tr>\n",
       "      <th>4798</th>\n",
       "      <td>220000</td>\n",
       "      <td>[{\"id\": 28, \"name\": \"Action\"}, {\"id\": 80, \"nam...</td>\n",
       "      <td>NaN</td>\n",
       "      <td>9367</td>\n",
       "      <td>[{\"id\": 5616, \"name\": \"united states\\u2013mexi...</td>\n",
       "      <td>es</td>\n",
       "      <td>El Mariachi</td>\n",
       "      <td>El Mariachi just wants to play his guitar and ...</td>\n",
       "      <td>14.269792</td>\n",
       "      <td>[{\"name\": \"Columbia Pictures\", \"id\": 5}]</td>\n",
       "      <td>[{\"iso_3166_1\": \"MX\", \"name\": \"Mexico\"}, {\"iso...</td>\n",
       "      <td>1992-09-04</td>\n",
       "      <td>2040920</td>\n",
       "      <td>81.0</td>\n",
       "      <td>[{\"iso_639_1\": \"es\", \"name\": \"Espa\\u00f1ol\"}]</td>\n",
       "      <td>Released</td>\n",
       "      <td>He didn't come looking for trouble, but troubl...</td>\n",
       "      <td>El Mariachi</td>\n",
       "      <td>6.6</td>\n",
       "      <td>238</td>\n",
       "    </tr>\n",
       "    <tr>\n",
       "      <th>4799</th>\n",
       "      <td>9000</td>\n",
       "      <td>[{\"id\": 35, \"name\": \"Comedy\"}, {\"id\": 10749, \"...</td>\n",
       "      <td>NaN</td>\n",
       "      <td>72766</td>\n",
       "      <td>[]</td>\n",
       "      <td>en</td>\n",
       "      <td>Newlyweds</td>\n",
       "      <td>A newlywed couple's honeymoon is upended by th...</td>\n",
       "      <td>0.642552</td>\n",
       "      <td>[]</td>\n",
       "      <td>[]</td>\n",
       "      <td>2011-12-26</td>\n",
       "      <td>0</td>\n",
       "      <td>85.0</td>\n",
       "      <td>[]</td>\n",
       "      <td>Released</td>\n",
       "      <td>A newlywed couple's honeymoon is upended by th...</td>\n",
       "      <td>Newlyweds</td>\n",
       "      <td>5.9</td>\n",
       "      <td>5</td>\n",
       "    </tr>\n",
       "    <tr>\n",
       "      <th>4800</th>\n",
       "      <td>0</td>\n",
       "      <td>[{\"id\": 35, \"name\": \"Comedy\"}, {\"id\": 18, \"nam...</td>\n",
       "      <td>http://www.hallmarkchannel.com/signedsealeddel...</td>\n",
       "      <td>231617</td>\n",
       "      <td>[{\"id\": 248, \"name\": \"date\"}, {\"id\": 699, \"nam...</td>\n",
       "      <td>en</td>\n",
       "      <td>Signed, Sealed, Delivered</td>\n",
       "      <td>\"Signed, Sealed, Delivered\" introduces a dedic...</td>\n",
       "      <td>1.444476</td>\n",
       "      <td>[{\"name\": \"Front Street Pictures\", \"id\": 3958}...</td>\n",
       "      <td>[{\"iso_3166_1\": \"US\", \"name\": \"United States o...</td>\n",
       "      <td>2013-10-13</td>\n",
       "      <td>0</td>\n",
       "      <td>120.0</td>\n",
       "      <td>[{\"iso_639_1\": \"en\", \"name\": \"English\"}]</td>\n",
       "      <td>Released</td>\n",
       "      <td>NaN</td>\n",
       "      <td>Signed, Sealed, Delivered</td>\n",
       "      <td>7.0</td>\n",
       "      <td>6</td>\n",
       "    </tr>\n",
       "    <tr>\n",
       "      <th>4801</th>\n",
       "      <td>0</td>\n",
       "      <td>[]</td>\n",
       "      <td>http://shanghaicalling.com/</td>\n",
       "      <td>126186</td>\n",
       "      <td>[]</td>\n",
       "      <td>en</td>\n",
       "      <td>Shanghai Calling</td>\n",
       "      <td>When ambitious New York attorney Sam is sent t...</td>\n",
       "      <td>0.857008</td>\n",
       "      <td>[]</td>\n",
       "      <td>[{\"iso_3166_1\": \"US\", \"name\": \"United States o...</td>\n",
       "      <td>2012-05-03</td>\n",
       "      <td>0</td>\n",
       "      <td>98.0</td>\n",
       "      <td>[{\"iso_639_1\": \"en\", \"name\": \"English\"}]</td>\n",
       "      <td>Released</td>\n",
       "      <td>A New Yorker in Shanghai</td>\n",
       "      <td>Shanghai Calling</td>\n",
       "      <td>5.7</td>\n",
       "      <td>7</td>\n",
       "    </tr>\n",
       "    <tr>\n",
       "      <th>4802</th>\n",
       "      <td>0</td>\n",
       "      <td>[{\"id\": 99, \"name\": \"Documentary\"}]</td>\n",
       "      <td>NaN</td>\n",
       "      <td>25975</td>\n",
       "      <td>[{\"id\": 1523, \"name\": \"obsession\"}, {\"id\": 224...</td>\n",
       "      <td>en</td>\n",
       "      <td>My Date with Drew</td>\n",
       "      <td>Ever since the second grade when he first saw ...</td>\n",
       "      <td>1.929883</td>\n",
       "      <td>[{\"name\": \"rusty bear entertainment\", \"id\": 87...</td>\n",
       "      <td>[{\"iso_3166_1\": \"US\", \"name\": \"United States o...</td>\n",
       "      <td>2005-08-05</td>\n",
       "      <td>0</td>\n",
       "      <td>90.0</td>\n",
       "      <td>[{\"iso_639_1\": \"en\", \"name\": \"English\"}]</td>\n",
       "      <td>Released</td>\n",
       "      <td>NaN</td>\n",
       "      <td>My Date with Drew</td>\n",
       "      <td>6.3</td>\n",
       "      <td>16</td>\n",
       "    </tr>\n",
       "  </tbody>\n",
       "</table>\n",
       "<p>4803 rows × 20 columns</p>\n",
       "</div>"
      ],
      "text/plain": [
       "         budget                                             genres  \\\n",
       "0     237000000  [{\"id\": 28, \"name\": \"Action\"}, {\"id\": 12, \"nam...   \n",
       "1     300000000  [{\"id\": 12, \"name\": \"Adventure\"}, {\"id\": 14, \"...   \n",
       "2     245000000  [{\"id\": 28, \"name\": \"Action\"}, {\"id\": 12, \"nam...   \n",
       "3     250000000  [{\"id\": 28, \"name\": \"Action\"}, {\"id\": 80, \"nam...   \n",
       "4     260000000  [{\"id\": 28, \"name\": \"Action\"}, {\"id\": 12, \"nam...   \n",
       "...         ...                                                ...   \n",
       "4798     220000  [{\"id\": 28, \"name\": \"Action\"}, {\"id\": 80, \"nam...   \n",
       "4799       9000  [{\"id\": 35, \"name\": \"Comedy\"}, {\"id\": 10749, \"...   \n",
       "4800          0  [{\"id\": 35, \"name\": \"Comedy\"}, {\"id\": 18, \"nam...   \n",
       "4801          0                                                 []   \n",
       "4802          0                [{\"id\": 99, \"name\": \"Documentary\"}]   \n",
       "\n",
       "                                               homepage      id  \\\n",
       "0                           http://www.avatarmovie.com/   19995   \n",
       "1          http://disney.go.com/disneypictures/pirates/     285   \n",
       "2           http://www.sonypictures.com/movies/spectre/  206647   \n",
       "3                    http://www.thedarkknightrises.com/   49026   \n",
       "4                  http://movies.disney.com/john-carter   49529   \n",
       "...                                                 ...     ...   \n",
       "4798                                                NaN    9367   \n",
       "4799                                                NaN   72766   \n",
       "4800  http://www.hallmarkchannel.com/signedsealeddel...  231617   \n",
       "4801                        http://shanghaicalling.com/  126186   \n",
       "4802                                                NaN   25975   \n",
       "\n",
       "                                               keywords original_language  \\\n",
       "0     [{\"id\": 1463, \"name\": \"culture clash\"}, {\"id\":...                en   \n",
       "1     [{\"id\": 270, \"name\": \"ocean\"}, {\"id\": 726, \"na...                en   \n",
       "2     [{\"id\": 470, \"name\": \"spy\"}, {\"id\": 818, \"name...                en   \n",
       "3     [{\"id\": 849, \"name\": \"dc comics\"}, {\"id\": 853,...                en   \n",
       "4     [{\"id\": 818, \"name\": \"based on novel\"}, {\"id\":...                en   \n",
       "...                                                 ...               ...   \n",
       "4798  [{\"id\": 5616, \"name\": \"united states\\u2013mexi...                es   \n",
       "4799                                                 []                en   \n",
       "4800  [{\"id\": 248, \"name\": \"date\"}, {\"id\": 699, \"nam...                en   \n",
       "4801                                                 []                en   \n",
       "4802  [{\"id\": 1523, \"name\": \"obsession\"}, {\"id\": 224...                en   \n",
       "\n",
       "                                original_title  \\\n",
       "0                                       Avatar   \n",
       "1     Pirates of the Caribbean: At World's End   \n",
       "2                                      Spectre   \n",
       "3                        The Dark Knight Rises   \n",
       "4                                  John Carter   \n",
       "...                                        ...   \n",
       "4798                               El Mariachi   \n",
       "4799                                 Newlyweds   \n",
       "4800                 Signed, Sealed, Delivered   \n",
       "4801                          Shanghai Calling   \n",
       "4802                         My Date with Drew   \n",
       "\n",
       "                                               overview  popularity  \\\n",
       "0     In the 22nd century, a paraplegic Marine is di...  150.437577   \n",
       "1     Captain Barbossa, long believed to be dead, ha...  139.082615   \n",
       "2     A cryptic message from Bond’s past sends him o...  107.376788   \n",
       "3     Following the death of District Attorney Harve...  112.312950   \n",
       "4     John Carter is a war-weary, former military ca...   43.926995   \n",
       "...                                                 ...         ...   \n",
       "4798  El Mariachi just wants to play his guitar and ...   14.269792   \n",
       "4799  A newlywed couple's honeymoon is upended by th...    0.642552   \n",
       "4800  \"Signed, Sealed, Delivered\" introduces a dedic...    1.444476   \n",
       "4801  When ambitious New York attorney Sam is sent t...    0.857008   \n",
       "4802  Ever since the second grade when he first saw ...    1.929883   \n",
       "\n",
       "                                   production_companies  \\\n",
       "0     [{\"name\": \"Ingenious Film Partners\", \"id\": 289...   \n",
       "1     [{\"name\": \"Walt Disney Pictures\", \"id\": 2}, {\"...   \n",
       "2     [{\"name\": \"Columbia Pictures\", \"id\": 5}, {\"nam...   \n",
       "3     [{\"name\": \"Legendary Pictures\", \"id\": 923}, {\"...   \n",
       "4           [{\"name\": \"Walt Disney Pictures\", \"id\": 2}]   \n",
       "...                                                 ...   \n",
       "4798           [{\"name\": \"Columbia Pictures\", \"id\": 5}]   \n",
       "4799                                                 []   \n",
       "4800  [{\"name\": \"Front Street Pictures\", \"id\": 3958}...   \n",
       "4801                                                 []   \n",
       "4802  [{\"name\": \"rusty bear entertainment\", \"id\": 87...   \n",
       "\n",
       "                                   production_countries release_date  \\\n",
       "0     [{\"iso_3166_1\": \"US\", \"name\": \"United States o...   2009-12-10   \n",
       "1     [{\"iso_3166_1\": \"US\", \"name\": \"United States o...   2007-05-19   \n",
       "2     [{\"iso_3166_1\": \"GB\", \"name\": \"United Kingdom\"...   2015-10-26   \n",
       "3     [{\"iso_3166_1\": \"US\", \"name\": \"United States o...   2012-07-16   \n",
       "4     [{\"iso_3166_1\": \"US\", \"name\": \"United States o...   2012-03-07   \n",
       "...                                                 ...          ...   \n",
       "4798  [{\"iso_3166_1\": \"MX\", \"name\": \"Mexico\"}, {\"iso...   1992-09-04   \n",
       "4799                                                 []   2011-12-26   \n",
       "4800  [{\"iso_3166_1\": \"US\", \"name\": \"United States o...   2013-10-13   \n",
       "4801  [{\"iso_3166_1\": \"US\", \"name\": \"United States o...   2012-05-03   \n",
       "4802  [{\"iso_3166_1\": \"US\", \"name\": \"United States o...   2005-08-05   \n",
       "\n",
       "         revenue  runtime                                   spoken_languages  \\\n",
       "0     2787965087    162.0  [{\"iso_639_1\": \"en\", \"name\": \"English\"}, {\"iso...   \n",
       "1      961000000    169.0           [{\"iso_639_1\": \"en\", \"name\": \"English\"}]   \n",
       "2      880674609    148.0  [{\"iso_639_1\": \"fr\", \"name\": \"Fran\\u00e7ais\"},...   \n",
       "3     1084939099    165.0           [{\"iso_639_1\": \"en\", \"name\": \"English\"}]   \n",
       "4      284139100    132.0           [{\"iso_639_1\": \"en\", \"name\": \"English\"}]   \n",
       "...          ...      ...                                                ...   \n",
       "4798     2040920     81.0      [{\"iso_639_1\": \"es\", \"name\": \"Espa\\u00f1ol\"}]   \n",
       "4799           0     85.0                                                 []   \n",
       "4800           0    120.0           [{\"iso_639_1\": \"en\", \"name\": \"English\"}]   \n",
       "4801           0     98.0           [{\"iso_639_1\": \"en\", \"name\": \"English\"}]   \n",
       "4802           0     90.0           [{\"iso_639_1\": \"en\", \"name\": \"English\"}]   \n",
       "\n",
       "        status                                            tagline  \\\n",
       "0     Released                        Enter the World of Pandora.   \n",
       "1     Released     At the end of the world, the adventure begins.   \n",
       "2     Released                              A Plan No One Escapes   \n",
       "3     Released                                    The Legend Ends   \n",
       "4     Released               Lost in our world, found in another.   \n",
       "...        ...                                                ...   \n",
       "4798  Released  He didn't come looking for trouble, but troubl...   \n",
       "4799  Released  A newlywed couple's honeymoon is upended by th...   \n",
       "4800  Released                                                NaN   \n",
       "4801  Released                           A New Yorker in Shanghai   \n",
       "4802  Released                                                NaN   \n",
       "\n",
       "                                         title  vote_average  vote_count  \n",
       "0                                       Avatar           7.2       11800  \n",
       "1     Pirates of the Caribbean: At World's End           6.9        4500  \n",
       "2                                      Spectre           6.3        4466  \n",
       "3                        The Dark Knight Rises           7.6        9106  \n",
       "4                                  John Carter           6.1        2124  \n",
       "...                                        ...           ...         ...  \n",
       "4798                               El Mariachi           6.6         238  \n",
       "4799                                 Newlyweds           5.9           5  \n",
       "4800                 Signed, Sealed, Delivered           7.0           6  \n",
       "4801                          Shanghai Calling           5.7           7  \n",
       "4802                         My Date with Drew           6.3          16  \n",
       "\n",
       "[4803 rows x 20 columns]"
      ]
     },
     "execution_count": 7,
     "metadata": {},
     "output_type": "execute_result"
    }
   ],
   "source": [
    "df_list['movies_csv']"
   ]
  },
  {
   "cell_type": "code",
   "execution_count": 8,
   "id": "c9755097",
   "metadata": {},
   "outputs": [
    {
     "data": {
      "text/html": [
       "<div>\n",
       "<style scoped>\n",
       "    .dataframe tbody tr th:only-of-type {\n",
       "        vertical-align: middle;\n",
       "    }\n",
       "\n",
       "    .dataframe tbody tr th {\n",
       "        vertical-align: top;\n",
       "    }\n",
       "\n",
       "    .dataframe thead th {\n",
       "        text-align: right;\n",
       "    }\n",
       "</style>\n",
       "<table border=\"1\" class=\"dataframe\">\n",
       "  <thead>\n",
       "    <tr style=\"text-align: right;\">\n",
       "      <th></th>\n",
       "      <th>movie_id</th>\n",
       "      <th>title</th>\n",
       "      <th>cast</th>\n",
       "      <th>crew</th>\n",
       "    </tr>\n",
       "  </thead>\n",
       "  <tbody>\n",
       "    <tr>\n",
       "      <th>0</th>\n",
       "      <td>19995</td>\n",
       "      <td>Avatar</td>\n",
       "      <td>[{\"cast_id\": 242, \"character\": \"Jake Sully\", \"...</td>\n",
       "      <td>[{\"credit_id\": \"52fe48009251416c750aca23\", \"de...</td>\n",
       "    </tr>\n",
       "    <tr>\n",
       "      <th>1</th>\n",
       "      <td>285</td>\n",
       "      <td>Pirates of the Caribbean: At World's End</td>\n",
       "      <td>[{\"cast_id\": 4, \"character\": \"Captain Jack Spa...</td>\n",
       "      <td>[{\"credit_id\": \"52fe4232c3a36847f800b579\", \"de...</td>\n",
       "    </tr>\n",
       "    <tr>\n",
       "      <th>2</th>\n",
       "      <td>206647</td>\n",
       "      <td>Spectre</td>\n",
       "      <td>[{\"cast_id\": 1, \"character\": \"James Bond\", \"cr...</td>\n",
       "      <td>[{\"credit_id\": \"54805967c3a36829b5002c41\", \"de...</td>\n",
       "    </tr>\n",
       "    <tr>\n",
       "      <th>3</th>\n",
       "      <td>49026</td>\n",
       "      <td>The Dark Knight Rises</td>\n",
       "      <td>[{\"cast_id\": 2, \"character\": \"Bruce Wayne / Ba...</td>\n",
       "      <td>[{\"credit_id\": \"52fe4781c3a36847f81398c3\", \"de...</td>\n",
       "    </tr>\n",
       "    <tr>\n",
       "      <th>4</th>\n",
       "      <td>49529</td>\n",
       "      <td>John Carter</td>\n",
       "      <td>[{\"cast_id\": 5, \"character\": \"John Carter\", \"c...</td>\n",
       "      <td>[{\"credit_id\": \"52fe479ac3a36847f813eaa3\", \"de...</td>\n",
       "    </tr>\n",
       "    <tr>\n",
       "      <th>...</th>\n",
       "      <td>...</td>\n",
       "      <td>...</td>\n",
       "      <td>...</td>\n",
       "      <td>...</td>\n",
       "    </tr>\n",
       "    <tr>\n",
       "      <th>4798</th>\n",
       "      <td>9367</td>\n",
       "      <td>El Mariachi</td>\n",
       "      <td>[{\"cast_id\": 1, \"character\": \"El Mariachi\", \"c...</td>\n",
       "      <td>[{\"credit_id\": \"52fe44eec3a36847f80b280b\", \"de...</td>\n",
       "    </tr>\n",
       "    <tr>\n",
       "      <th>4799</th>\n",
       "      <td>72766</td>\n",
       "      <td>Newlyweds</td>\n",
       "      <td>[{\"cast_id\": 1, \"character\": \"Buzzy\", \"credit_...</td>\n",
       "      <td>[{\"credit_id\": \"52fe487dc3a368484e0fb013\", \"de...</td>\n",
       "    </tr>\n",
       "    <tr>\n",
       "      <th>4800</th>\n",
       "      <td>231617</td>\n",
       "      <td>Signed, Sealed, Delivered</td>\n",
       "      <td>[{\"cast_id\": 8, \"character\": \"Oliver O\\u2019To...</td>\n",
       "      <td>[{\"credit_id\": \"52fe4df3c3a36847f8275ecf\", \"de...</td>\n",
       "    </tr>\n",
       "    <tr>\n",
       "      <th>4801</th>\n",
       "      <td>126186</td>\n",
       "      <td>Shanghai Calling</td>\n",
       "      <td>[{\"cast_id\": 3, \"character\": \"Sam\", \"credit_id...</td>\n",
       "      <td>[{\"credit_id\": \"52fe4ad9c3a368484e16a36b\", \"de...</td>\n",
       "    </tr>\n",
       "    <tr>\n",
       "      <th>4802</th>\n",
       "      <td>25975</td>\n",
       "      <td>My Date with Drew</td>\n",
       "      <td>[{\"cast_id\": 3, \"character\": \"Herself\", \"credi...</td>\n",
       "      <td>[{\"credit_id\": \"58ce021b9251415a390165d9\", \"de...</td>\n",
       "    </tr>\n",
       "  </tbody>\n",
       "</table>\n",
       "<p>4803 rows × 4 columns</p>\n",
       "</div>"
      ],
      "text/plain": [
       "      movie_id                                     title  \\\n",
       "0        19995                                    Avatar   \n",
       "1          285  Pirates of the Caribbean: At World's End   \n",
       "2       206647                                   Spectre   \n",
       "3        49026                     The Dark Knight Rises   \n",
       "4        49529                               John Carter   \n",
       "...        ...                                       ...   \n",
       "4798      9367                               El Mariachi   \n",
       "4799     72766                                 Newlyweds   \n",
       "4800    231617                 Signed, Sealed, Delivered   \n",
       "4801    126186                          Shanghai Calling   \n",
       "4802     25975                         My Date with Drew   \n",
       "\n",
       "                                                   cast  \\\n",
       "0     [{\"cast_id\": 242, \"character\": \"Jake Sully\", \"...   \n",
       "1     [{\"cast_id\": 4, \"character\": \"Captain Jack Spa...   \n",
       "2     [{\"cast_id\": 1, \"character\": \"James Bond\", \"cr...   \n",
       "3     [{\"cast_id\": 2, \"character\": \"Bruce Wayne / Ba...   \n",
       "4     [{\"cast_id\": 5, \"character\": \"John Carter\", \"c...   \n",
       "...                                                 ...   \n",
       "4798  [{\"cast_id\": 1, \"character\": \"El Mariachi\", \"c...   \n",
       "4799  [{\"cast_id\": 1, \"character\": \"Buzzy\", \"credit_...   \n",
       "4800  [{\"cast_id\": 8, \"character\": \"Oliver O\\u2019To...   \n",
       "4801  [{\"cast_id\": 3, \"character\": \"Sam\", \"credit_id...   \n",
       "4802  [{\"cast_id\": 3, \"character\": \"Herself\", \"credi...   \n",
       "\n",
       "                                                   crew  \n",
       "0     [{\"credit_id\": \"52fe48009251416c750aca23\", \"de...  \n",
       "1     [{\"credit_id\": \"52fe4232c3a36847f800b579\", \"de...  \n",
       "2     [{\"credit_id\": \"54805967c3a36829b5002c41\", \"de...  \n",
       "3     [{\"credit_id\": \"52fe4781c3a36847f81398c3\", \"de...  \n",
       "4     [{\"credit_id\": \"52fe479ac3a36847f813eaa3\", \"de...  \n",
       "...                                                 ...  \n",
       "4798  [{\"credit_id\": \"52fe44eec3a36847f80b280b\", \"de...  \n",
       "4799  [{\"credit_id\": \"52fe487dc3a368484e0fb013\", \"de...  \n",
       "4800  [{\"credit_id\": \"52fe4df3c3a36847f8275ecf\", \"de...  \n",
       "4801  [{\"credit_id\": \"52fe4ad9c3a368484e16a36b\", \"de...  \n",
       "4802  [{\"credit_id\": \"58ce021b9251415a390165d9\", \"de...  \n",
       "\n",
       "[4803 rows x 4 columns]"
      ]
     },
     "execution_count": 8,
     "metadata": {},
     "output_type": "execute_result"
    }
   ],
   "source": [
    "df_list['credits_csv']"
   ]
  },
  {
   "cell_type": "markdown",
   "id": "54cc7be1",
   "metadata": {},
   "source": [
    "# getting common column in dataframes / csv"
   ]
  },
  {
   "cell_type": "code",
   "execution_count": 9,
   "id": "2c6b20f2",
   "metadata": {},
   "outputs": [
    {
     "name": "stdout",
     "output_type": "stream",
     "text": [
      "{'name': ['movies_csv', 'credits_csv'], 'keys': [Index(['budget', 'genres', 'homepage', 'id', 'keywords', 'original_language',\n",
      "       'original_title', 'overview', 'popularity', 'production_companies',\n",
      "       'production_countries', 'release_date', 'revenue', 'runtime',\n",
      "       'spoken_languages', 'status', 'tagline', 'title', 'vote_average',\n",
      "       'vote_count'],\n",
      "      dtype='object'), Index(['movie_id', 'title', 'cast', 'crew'], dtype='object')], 'length': [20, 4]}\n"
     ]
    }
   ],
   "source": [
    "count = 0\n",
    "key_dict = {'name':[],'keys':[],'length':[]}\n",
    "for i in dataframes:\n",
    "    key_dict['name'].append(i)\n",
    "    key_dict['keys'].append(df_list[i].keys())\n",
    "    key_dict['length'].append(len(df_list[i].keys()))\n",
    "print(key_dict)"
   ]
  },
  {
   "cell_type": "code",
   "execution_count": 10,
   "id": "dccf08b3",
   "metadata": {
    "scrolled": true
   },
   "outputs": [
    {
     "name": "stdout",
     "output_type": "stream",
     "text": [
      "title\n"
     ]
    }
   ],
   "source": [
    "# print()\n",
    "# print('******************* Getting lenth elements of key_dict *******************')\n",
    "# print()\n",
    "\n",
    "length = key_dict['length']\n",
    "# print(\"length item of key_dict dictionary :- \",length)\n",
    "\n",
    "# sort lenght array\n",
    "temp = 0; \n",
    "for i in range(0, len(length)):    \n",
    "    for j in range(i+1, len(length)):    \n",
    "        if(length[i] > length[j]):    \n",
    "            temp = length[i]  \n",
    "            length[i] = length[j] \n",
    "            length[j] = temp \n",
    "\n",
    "# Elements of array sorted in descending order\n",
    "sorted_keydict = []\n",
    "for i in range(0, len(length)):\n",
    "    sorted_keydict.append(length[i])\n",
    "# print('sorted list :- ',sorted_keydict)\n",
    "\n",
    "max_length = sorted_keydict[-1]\n",
    "# print('Max length is :- ',max_length)\n",
    "# print()\n",
    "# print('******************* Merging Start *******************')\n",
    "# print()\n",
    "\n",
    "\n",
    "if max_length in key_dict['length']:\n",
    "        #print('Present')\n",
    "        lenth_pos = key_dict['length'].index(max_length)\n",
    "        #print(lenth_pos)\n",
    "        key_items = key_dict['keys'][lenth_pos]\n",
    "        # print(key_items)\n",
    "        found_keys = []\n",
    "        for i in range(0,len(key_dict['keys'])):\n",
    "            if(i != lenth_pos):\n",
    "                \n",
    "                for j in key_items:\n",
    "                    if j in key_dict['keys'][i]:\n",
    "                        #print(j)\n",
    "                        found_keys.append(j)\n",
    "                common_column = ''.join(found_keys)\n",
    "                print(common_column)\n",
    "else:\n",
    "    print('Not Present')\n",
    "    "
   ]
  },
  {
   "cell_type": "markdown",
   "id": "14c34088",
   "metadata": {},
   "source": [
    "# sort column on the basis of common selected column"
   ]
  },
  {
   "cell_type": "code",
   "execution_count": 11,
   "id": "b49a024e",
   "metadata": {},
   "outputs": [
    {
     "data": {
      "text/html": [
       "<div>\n",
       "<style scoped>\n",
       "    .dataframe tbody tr th:only-of-type {\n",
       "        vertical-align: middle;\n",
       "    }\n",
       "\n",
       "    .dataframe tbody tr th {\n",
       "        vertical-align: top;\n",
       "    }\n",
       "\n",
       "    .dataframe thead th {\n",
       "        text-align: right;\n",
       "    }\n",
       "</style>\n",
       "<table border=\"1\" class=\"dataframe\">\n",
       "  <thead>\n",
       "    <tr style=\"text-align: right;\">\n",
       "      <th></th>\n",
       "      <th>movie_id</th>\n",
       "      <th>title</th>\n",
       "      <th>cast</th>\n",
       "      <th>crew</th>\n",
       "    </tr>\n",
       "  </thead>\n",
       "  <tbody>\n",
       "    <tr>\n",
       "      <th>0</th>\n",
       "      <td>301325</td>\n",
       "      <td>#Horror</td>\n",
       "      <td>[{\"cast_id\": 0, \"character\": \"Alex's 12-Step F...</td>\n",
       "      <td>[{\"credit_id\": \"545bbac70e0a261fb6002329\", \"de...</td>\n",
       "    </tr>\n",
       "    <tr>\n",
       "      <th>1</th>\n",
       "      <td>19913</td>\n",
       "      <td>(500) Days of Summer</td>\n",
       "      <td>[{\"cast_id\": 4, \"character\": \"Tom Hansen\", \"cr...</td>\n",
       "      <td>[{\"credit_id\": \"52fe47f99251416c750abaa5\", \"de...</td>\n",
       "    </tr>\n",
       "    <tr>\n",
       "      <th>2</th>\n",
       "      <td>333371</td>\n",
       "      <td>10 Cloverfield Lane</td>\n",
       "      <td>[{\"cast_id\": 2, \"character\": \"Michelle\", \"cred...</td>\n",
       "      <td>[{\"credit_id\": \"57627624c3a3680682000872\", \"de...</td>\n",
       "    </tr>\n",
       "    <tr>\n",
       "      <th>3</th>\n",
       "      <td>345003</td>\n",
       "      <td>10 Days in a Madhouse</td>\n",
       "      <td>[{\"cast_id\": 2, \"character\": \"Nellie Bly\", \"cr...</td>\n",
       "      <td>[{\"credit_id\": \"594efa1fc3a36832650455ff\", \"de...</td>\n",
       "    </tr>\n",
       "    <tr>\n",
       "      <th>4</th>\n",
       "      <td>4951</td>\n",
       "      <td>10 Things I Hate About You</td>\n",
       "      <td>[{\"cast_id\": 2, \"character\": \"Patrick Verona\",...</td>\n",
       "      <td>[{\"credit_id\": \"52fe43e6c3a36847f807731d\", \"de...</td>\n",
       "    </tr>\n",
       "    <tr>\n",
       "      <th>...</th>\n",
       "      <td>...</td>\n",
       "      <td>...</td>\n",
       "      <td>...</td>\n",
       "      <td>...</td>\n",
       "    </tr>\n",
       "    <tr>\n",
       "      <th>4798</th>\n",
       "      <td>10664</td>\n",
       "      <td>[REC]²</td>\n",
       "      <td>[{\"cast_id\": 3, \"character\": \"\\u00c1ngela Vida...</td>\n",
       "      <td>[{\"credit_id\": \"52fe439e9251416c7501783d\", \"de...</td>\n",
       "    </tr>\n",
       "    <tr>\n",
       "      <th>4799</th>\n",
       "      <td>1946</td>\n",
       "      <td>eXistenZ</td>\n",
       "      <td>[{\"cast_id\": 3, \"character\": \"Allegra Geller\",...</td>\n",
       "      <td>[{\"credit_id\": \"52fe4325c3a36847f803db2d\", \"de...</td>\n",
       "    </tr>\n",
       "    <tr>\n",
       "      <th>4800</th>\n",
       "      <td>7451</td>\n",
       "      <td>xXx</td>\n",
       "      <td>[{\"cast_id\": 8, \"character\": \"Xander Cage\", \"c...</td>\n",
       "      <td>[{\"credit_id\": \"538d8c59c3a368714b004879\", \"de...</td>\n",
       "    </tr>\n",
       "    <tr>\n",
       "      <th>4801</th>\n",
       "      <td>11679</td>\n",
       "      <td>xXx: State of the Union</td>\n",
       "      <td>[{\"cast_id\": 13, \"character\": \"Darius Stone / ...</td>\n",
       "      <td>[{\"credit_id\": \"5578b667c3a3682a7500041a\", \"de...</td>\n",
       "    </tr>\n",
       "    <tr>\n",
       "      <th>4802</th>\n",
       "      <td>8202</td>\n",
       "      <td>Æon Flux</td>\n",
       "      <td>[{\"cast_id\": 1, \"character\": \"Aeon Flux\", \"cre...</td>\n",
       "      <td>[{\"credit_id\": \"52fe4495c3a36847f809e6f3\", \"de...</td>\n",
       "    </tr>\n",
       "  </tbody>\n",
       "</table>\n",
       "<p>4803 rows × 4 columns</p>\n",
       "</div>"
      ],
      "text/plain": [
       "      movie_id                       title  \\\n",
       "0       301325                     #Horror   \n",
       "1        19913        (500) Days of Summer   \n",
       "2       333371         10 Cloverfield Lane   \n",
       "3       345003       10 Days in a Madhouse   \n",
       "4         4951  10 Things I Hate About You   \n",
       "...        ...                         ...   \n",
       "4798     10664                      [REC]²   \n",
       "4799      1946                    eXistenZ   \n",
       "4800      7451                         xXx   \n",
       "4801     11679     xXx: State of the Union   \n",
       "4802      8202                    Æon Flux   \n",
       "\n",
       "                                                   cast  \\\n",
       "0     [{\"cast_id\": 0, \"character\": \"Alex's 12-Step F...   \n",
       "1     [{\"cast_id\": 4, \"character\": \"Tom Hansen\", \"cr...   \n",
       "2     [{\"cast_id\": 2, \"character\": \"Michelle\", \"cred...   \n",
       "3     [{\"cast_id\": 2, \"character\": \"Nellie Bly\", \"cr...   \n",
       "4     [{\"cast_id\": 2, \"character\": \"Patrick Verona\",...   \n",
       "...                                                 ...   \n",
       "4798  [{\"cast_id\": 3, \"character\": \"\\u00c1ngela Vida...   \n",
       "4799  [{\"cast_id\": 3, \"character\": \"Allegra Geller\",...   \n",
       "4800  [{\"cast_id\": 8, \"character\": \"Xander Cage\", \"c...   \n",
       "4801  [{\"cast_id\": 13, \"character\": \"Darius Stone / ...   \n",
       "4802  [{\"cast_id\": 1, \"character\": \"Aeon Flux\", \"cre...   \n",
       "\n",
       "                                                   crew  \n",
       "0     [{\"credit_id\": \"545bbac70e0a261fb6002329\", \"de...  \n",
       "1     [{\"credit_id\": \"52fe47f99251416c750abaa5\", \"de...  \n",
       "2     [{\"credit_id\": \"57627624c3a3680682000872\", \"de...  \n",
       "3     [{\"credit_id\": \"594efa1fc3a36832650455ff\", \"de...  \n",
       "4     [{\"credit_id\": \"52fe43e6c3a36847f807731d\", \"de...  \n",
       "...                                                 ...  \n",
       "4798  [{\"credit_id\": \"52fe439e9251416c7501783d\", \"de...  \n",
       "4799  [{\"credit_id\": \"52fe4325c3a36847f803db2d\", \"de...  \n",
       "4800  [{\"credit_id\": \"538d8c59c3a368714b004879\", \"de...  \n",
       "4801  [{\"credit_id\": \"5578b667c3a3682a7500041a\", \"de...  \n",
       "4802  [{\"credit_id\": \"52fe4495c3a36847f809e6f3\", \"de...  \n",
       "\n",
       "[4803 rows x 4 columns]"
      ]
     },
     "execution_count": 11,
     "metadata": {},
     "output_type": "execute_result"
    }
   ],
   "source": [
    "df_list['credits_csv'].sort_values(by='title',ignore_index=t)"
   ]
  },
  {
   "cell_type": "code",
   "execution_count": 12,
   "id": "c71a1f80",
   "metadata": {},
   "outputs": [],
   "source": [
    "for i in df_list:\n",
    "    df_list[i] = df_list[i].sort_values(by=common_column,ignore_index=t)"
   ]
  },
  {
   "cell_type": "code",
   "execution_count": 13,
   "id": "b42f799c",
   "metadata": {},
   "outputs": [
    {
     "data": {
      "text/html": [
       "<div>\n",
       "<style scoped>\n",
       "    .dataframe tbody tr th:only-of-type {\n",
       "        vertical-align: middle;\n",
       "    }\n",
       "\n",
       "    .dataframe tbody tr th {\n",
       "        vertical-align: top;\n",
       "    }\n",
       "\n",
       "    .dataframe thead th {\n",
       "        text-align: right;\n",
       "    }\n",
       "</style>\n",
       "<table border=\"1\" class=\"dataframe\">\n",
       "  <thead>\n",
       "    <tr style=\"text-align: right;\">\n",
       "      <th></th>\n",
       "      <th>movie_id</th>\n",
       "      <th>title</th>\n",
       "      <th>cast</th>\n",
       "      <th>crew</th>\n",
       "    </tr>\n",
       "  </thead>\n",
       "  <tbody>\n",
       "    <tr>\n",
       "      <th>0</th>\n",
       "      <td>301325</td>\n",
       "      <td>#Horror</td>\n",
       "      <td>[{\"cast_id\": 0, \"character\": \"Alex's 12-Step F...</td>\n",
       "      <td>[{\"credit_id\": \"545bbac70e0a261fb6002329\", \"de...</td>\n",
       "    </tr>\n",
       "    <tr>\n",
       "      <th>1</th>\n",
       "      <td>19913</td>\n",
       "      <td>(500) Days of Summer</td>\n",
       "      <td>[{\"cast_id\": 4, \"character\": \"Tom Hansen\", \"cr...</td>\n",
       "      <td>[{\"credit_id\": \"52fe47f99251416c750abaa5\", \"de...</td>\n",
       "    </tr>\n",
       "    <tr>\n",
       "      <th>2</th>\n",
       "      <td>333371</td>\n",
       "      <td>10 Cloverfield Lane</td>\n",
       "      <td>[{\"cast_id\": 2, \"character\": \"Michelle\", \"cred...</td>\n",
       "      <td>[{\"credit_id\": \"57627624c3a3680682000872\", \"de...</td>\n",
       "    </tr>\n",
       "    <tr>\n",
       "      <th>3</th>\n",
       "      <td>345003</td>\n",
       "      <td>10 Days in a Madhouse</td>\n",
       "      <td>[{\"cast_id\": 2, \"character\": \"Nellie Bly\", \"cr...</td>\n",
       "      <td>[{\"credit_id\": \"594efa1fc3a36832650455ff\", \"de...</td>\n",
       "    </tr>\n",
       "    <tr>\n",
       "      <th>4</th>\n",
       "      <td>4951</td>\n",
       "      <td>10 Things I Hate About You</td>\n",
       "      <td>[{\"cast_id\": 2, \"character\": \"Patrick Verona\",...</td>\n",
       "      <td>[{\"credit_id\": \"52fe43e6c3a36847f807731d\", \"de...</td>\n",
       "    </tr>\n",
       "    <tr>\n",
       "      <th>...</th>\n",
       "      <td>...</td>\n",
       "      <td>...</td>\n",
       "      <td>...</td>\n",
       "      <td>...</td>\n",
       "    </tr>\n",
       "    <tr>\n",
       "      <th>4798</th>\n",
       "      <td>10664</td>\n",
       "      <td>[REC]²</td>\n",
       "      <td>[{\"cast_id\": 3, \"character\": \"\\u00c1ngela Vida...</td>\n",
       "      <td>[{\"credit_id\": \"52fe439e9251416c7501783d\", \"de...</td>\n",
       "    </tr>\n",
       "    <tr>\n",
       "      <th>4799</th>\n",
       "      <td>1946</td>\n",
       "      <td>eXistenZ</td>\n",
       "      <td>[{\"cast_id\": 3, \"character\": \"Allegra Geller\",...</td>\n",
       "      <td>[{\"credit_id\": \"52fe4325c3a36847f803db2d\", \"de...</td>\n",
       "    </tr>\n",
       "    <tr>\n",
       "      <th>4800</th>\n",
       "      <td>7451</td>\n",
       "      <td>xXx</td>\n",
       "      <td>[{\"cast_id\": 8, \"character\": \"Xander Cage\", \"c...</td>\n",
       "      <td>[{\"credit_id\": \"538d8c59c3a368714b004879\", \"de...</td>\n",
       "    </tr>\n",
       "    <tr>\n",
       "      <th>4801</th>\n",
       "      <td>11679</td>\n",
       "      <td>xXx: State of the Union</td>\n",
       "      <td>[{\"cast_id\": 13, \"character\": \"Darius Stone / ...</td>\n",
       "      <td>[{\"credit_id\": \"5578b667c3a3682a7500041a\", \"de...</td>\n",
       "    </tr>\n",
       "    <tr>\n",
       "      <th>4802</th>\n",
       "      <td>8202</td>\n",
       "      <td>Æon Flux</td>\n",
       "      <td>[{\"cast_id\": 1, \"character\": \"Aeon Flux\", \"cre...</td>\n",
       "      <td>[{\"credit_id\": \"52fe4495c3a36847f809e6f3\", \"de...</td>\n",
       "    </tr>\n",
       "  </tbody>\n",
       "</table>\n",
       "<p>4803 rows × 4 columns</p>\n",
       "</div>"
      ],
      "text/plain": [
       "      movie_id                       title  \\\n",
       "0       301325                     #Horror   \n",
       "1        19913        (500) Days of Summer   \n",
       "2       333371         10 Cloverfield Lane   \n",
       "3       345003       10 Days in a Madhouse   \n",
       "4         4951  10 Things I Hate About You   \n",
       "...        ...                         ...   \n",
       "4798     10664                      [REC]²   \n",
       "4799      1946                    eXistenZ   \n",
       "4800      7451                         xXx   \n",
       "4801     11679     xXx: State of the Union   \n",
       "4802      8202                    Æon Flux   \n",
       "\n",
       "                                                   cast  \\\n",
       "0     [{\"cast_id\": 0, \"character\": \"Alex's 12-Step F...   \n",
       "1     [{\"cast_id\": 4, \"character\": \"Tom Hansen\", \"cr...   \n",
       "2     [{\"cast_id\": 2, \"character\": \"Michelle\", \"cred...   \n",
       "3     [{\"cast_id\": 2, \"character\": \"Nellie Bly\", \"cr...   \n",
       "4     [{\"cast_id\": 2, \"character\": \"Patrick Verona\",...   \n",
       "...                                                 ...   \n",
       "4798  [{\"cast_id\": 3, \"character\": \"\\u00c1ngela Vida...   \n",
       "4799  [{\"cast_id\": 3, \"character\": \"Allegra Geller\",...   \n",
       "4800  [{\"cast_id\": 8, \"character\": \"Xander Cage\", \"c...   \n",
       "4801  [{\"cast_id\": 13, \"character\": \"Darius Stone / ...   \n",
       "4802  [{\"cast_id\": 1, \"character\": \"Aeon Flux\", \"cre...   \n",
       "\n",
       "                                                   crew  \n",
       "0     [{\"credit_id\": \"545bbac70e0a261fb6002329\", \"de...  \n",
       "1     [{\"credit_id\": \"52fe47f99251416c750abaa5\", \"de...  \n",
       "2     [{\"credit_id\": \"57627624c3a3680682000872\", \"de...  \n",
       "3     [{\"credit_id\": \"594efa1fc3a36832650455ff\", \"de...  \n",
       "4     [{\"credit_id\": \"52fe43e6c3a36847f807731d\", \"de...  \n",
       "...                                                 ...  \n",
       "4798  [{\"credit_id\": \"52fe439e9251416c7501783d\", \"de...  \n",
       "4799  [{\"credit_id\": \"52fe4325c3a36847f803db2d\", \"de...  \n",
       "4800  [{\"credit_id\": \"538d8c59c3a368714b004879\", \"de...  \n",
       "4801  [{\"credit_id\": \"5578b667c3a3682a7500041a\", \"de...  \n",
       "4802  [{\"credit_id\": \"52fe4495c3a36847f809e6f3\", \"de...  \n",
       "\n",
       "[4803 rows x 4 columns]"
      ]
     },
     "execution_count": 13,
     "metadata": {},
     "output_type": "execute_result"
    }
   ],
   "source": [
    "df_list['credits_csv']"
   ]
  },
  {
   "cell_type": "code",
   "execution_count": 14,
   "id": "90db7e1f",
   "metadata": {},
   "outputs": [
    {
     "data": {
      "text/html": [
       "<div>\n",
       "<style scoped>\n",
       "    .dataframe tbody tr th:only-of-type {\n",
       "        vertical-align: middle;\n",
       "    }\n",
       "\n",
       "    .dataframe tbody tr th {\n",
       "        vertical-align: top;\n",
       "    }\n",
       "\n",
       "    .dataframe thead th {\n",
       "        text-align: right;\n",
       "    }\n",
       "</style>\n",
       "<table border=\"1\" class=\"dataframe\">\n",
       "  <thead>\n",
       "    <tr style=\"text-align: right;\">\n",
       "      <th></th>\n",
       "      <th>budget</th>\n",
       "      <th>genres</th>\n",
       "      <th>homepage</th>\n",
       "      <th>id</th>\n",
       "      <th>keywords</th>\n",
       "      <th>original_language</th>\n",
       "      <th>original_title</th>\n",
       "      <th>overview</th>\n",
       "      <th>popularity</th>\n",
       "      <th>production_companies</th>\n",
       "      <th>production_countries</th>\n",
       "      <th>release_date</th>\n",
       "      <th>revenue</th>\n",
       "      <th>runtime</th>\n",
       "      <th>spoken_languages</th>\n",
       "      <th>status</th>\n",
       "      <th>tagline</th>\n",
       "      <th>title</th>\n",
       "      <th>vote_average</th>\n",
       "      <th>vote_count</th>\n",
       "    </tr>\n",
       "  </thead>\n",
       "  <tbody>\n",
       "    <tr>\n",
       "      <th>0</th>\n",
       "      <td>1500000</td>\n",
       "      <td>[{\"id\": 18, \"name\": \"Drama\"}, {\"id\": 9648, \"na...</td>\n",
       "      <td>http://www.hashtaghorror.com/</td>\n",
       "      <td>301325</td>\n",
       "      <td>[]</td>\n",
       "      <td>de</td>\n",
       "      <td>#Horror</td>\n",
       "      <td>Inspired by actual events, a group of 12 year ...</td>\n",
       "      <td>2.815228</td>\n",
       "      <td>[{\"name\": \"AST Studios\", \"id\": 75277}, {\"name\"...</td>\n",
       "      <td>[{\"iso_3166_1\": \"US\", \"name\": \"United States o...</td>\n",
       "      <td>2015-11-20</td>\n",
       "      <td>0</td>\n",
       "      <td>90.0</td>\n",
       "      <td>[{\"iso_639_1\": \"en\", \"name\": \"English\"}, {\"iso...</td>\n",
       "      <td>Released</td>\n",
       "      <td>Death is trending.</td>\n",
       "      <td>#Horror</td>\n",
       "      <td>3.3</td>\n",
       "      <td>52</td>\n",
       "    </tr>\n",
       "    <tr>\n",
       "      <th>1</th>\n",
       "      <td>7500000</td>\n",
       "      <td>[{\"id\": 35, \"name\": \"Comedy\"}, {\"id\": 18, \"nam...</td>\n",
       "      <td>http://500days.com</td>\n",
       "      <td>19913</td>\n",
       "      <td>[{\"id\": 248, \"name\": \"date\"}, {\"id\": 572, \"nam...</td>\n",
       "      <td>en</td>\n",
       "      <td>(500) Days of Summer</td>\n",
       "      <td>Tom (Joseph Gordon-Levitt), greeting-card writ...</td>\n",
       "      <td>45.610993</td>\n",
       "      <td>[{\"name\": \"Fox Searchlight Pictures\", \"id\": 43...</td>\n",
       "      <td>[{\"iso_3166_1\": \"US\", \"name\": \"United States o...</td>\n",
       "      <td>2009-07-17</td>\n",
       "      <td>60722734</td>\n",
       "      <td>95.0</td>\n",
       "      <td>[{\"iso_639_1\": \"en\", \"name\": \"English\"}, {\"iso...</td>\n",
       "      <td>Released</td>\n",
       "      <td>It was almost like falling in love.</td>\n",
       "      <td>(500) Days of Summer</td>\n",
       "      <td>7.2</td>\n",
       "      <td>2904</td>\n",
       "    </tr>\n",
       "    <tr>\n",
       "      <th>2</th>\n",
       "      <td>15000000</td>\n",
       "      <td>[{\"id\": 53, \"name\": \"Thriller\"}, {\"id\": 878, \"...</td>\n",
       "      <td>http://www.10cloverfieldlane.com/</td>\n",
       "      <td>333371</td>\n",
       "      <td>[{\"id\": 1930, \"name\": \"kidnapping\"}, {\"id\": 23...</td>\n",
       "      <td>en</td>\n",
       "      <td>10 Cloverfield Lane</td>\n",
       "      <td>After a car accident, Michelle awakens to find...</td>\n",
       "      <td>53.698683</td>\n",
       "      <td>[{\"name\": \"Paramount Pictures\", \"id\": 4}, {\"na...</td>\n",
       "      <td>[{\"iso_3166_1\": \"US\", \"name\": \"United States o...</td>\n",
       "      <td>2016-03-10</td>\n",
       "      <td>108286421</td>\n",
       "      <td>103.0</td>\n",
       "      <td>[{\"iso_639_1\": \"en\", \"name\": \"English\"}]</td>\n",
       "      <td>Released</td>\n",
       "      <td>Monsters come in many forms.</td>\n",
       "      <td>10 Cloverfield Lane</td>\n",
       "      <td>6.8</td>\n",
       "      <td>2468</td>\n",
       "    </tr>\n",
       "    <tr>\n",
       "      <th>3</th>\n",
       "      <td>1200000</td>\n",
       "      <td>[{\"id\": 18, \"name\": \"Drama\"}]</td>\n",
       "      <td>NaN</td>\n",
       "      <td>345003</td>\n",
       "      <td>[{\"id\": 1568, \"name\": \"undercover\"}, {\"id\": 49...</td>\n",
       "      <td>en</td>\n",
       "      <td>10 Days in a Madhouse</td>\n",
       "      <td>Nellie Bly, a 23 year-old reporter for Joseph ...</td>\n",
       "      <td>0.489271</td>\n",
       "      <td>[]</td>\n",
       "      <td>[{\"iso_3166_1\": \"US\", \"name\": \"United States o...</td>\n",
       "      <td>2015-11-20</td>\n",
       "      <td>0</td>\n",
       "      <td>111.0</td>\n",
       "      <td>[{\"iso_639_1\": \"en\", \"name\": \"English\"}]</td>\n",
       "      <td>Released</td>\n",
       "      <td>NaN</td>\n",
       "      <td>10 Days in a Madhouse</td>\n",
       "      <td>4.3</td>\n",
       "      <td>5</td>\n",
       "    </tr>\n",
       "    <tr>\n",
       "      <th>4</th>\n",
       "      <td>16000000</td>\n",
       "      <td>[{\"id\": 35, \"name\": \"Comedy\"}, {\"id\": 10749, \"...</td>\n",
       "      <td>NaN</td>\n",
       "      <td>4951</td>\n",
       "      <td>[{\"id\": 497, \"name\": \"shakespeare\"}, {\"id\": 59...</td>\n",
       "      <td>en</td>\n",
       "      <td>10 Things I Hate About You</td>\n",
       "      <td>Bianca, a tenth grader, has never gone on a da...</td>\n",
       "      <td>54.550275</td>\n",
       "      <td>[{\"name\": \"Mad Chance\", \"id\": 1757}, {\"name\": ...</td>\n",
       "      <td>[{\"iso_3166_1\": \"US\", \"name\": \"United States o...</td>\n",
       "      <td>1999-03-30</td>\n",
       "      <td>53478166</td>\n",
       "      <td>97.0</td>\n",
       "      <td>[{\"iso_639_1\": \"en\", \"name\": \"English\"}, {\"iso...</td>\n",
       "      <td>Released</td>\n",
       "      <td>How do I loathe thee? Let me count the ways.</td>\n",
       "      <td>10 Things I Hate About You</td>\n",
       "      <td>7.3</td>\n",
       "      <td>1701</td>\n",
       "    </tr>\n",
       "    <tr>\n",
       "      <th>...</th>\n",
       "      <td>...</td>\n",
       "      <td>...</td>\n",
       "      <td>...</td>\n",
       "      <td>...</td>\n",
       "      <td>...</td>\n",
       "      <td>...</td>\n",
       "      <td>...</td>\n",
       "      <td>...</td>\n",
       "      <td>...</td>\n",
       "      <td>...</td>\n",
       "      <td>...</td>\n",
       "      <td>...</td>\n",
       "      <td>...</td>\n",
       "      <td>...</td>\n",
       "      <td>...</td>\n",
       "      <td>...</td>\n",
       "      <td>...</td>\n",
       "      <td>...</td>\n",
       "      <td>...</td>\n",
       "      <td>...</td>\n",
       "    </tr>\n",
       "    <tr>\n",
       "      <th>4798</th>\n",
       "      <td>5600000</td>\n",
       "      <td>[{\"id\": 53, \"name\": \"Thriller\"}, {\"id\": 27, \"n...</td>\n",
       "      <td>http://www.rec2themovie.com/</td>\n",
       "      <td>10664</td>\n",
       "      <td>[{\"id\": 3684, \"name\": \"religion and supernatur...</td>\n",
       "      <td>es</td>\n",
       "      <td>[REC]²</td>\n",
       "      <td>The action continues from [REC], with the medi...</td>\n",
       "      <td>22.341462</td>\n",
       "      <td>[{\"name\": \"Filmax\", \"id\": 3631}]</td>\n",
       "      <td>[{\"iso_3166_1\": \"ES\", \"name\": \"Spain\"}]</td>\n",
       "      <td>2009-09-15</td>\n",
       "      <td>18469680</td>\n",
       "      <td>85.0</td>\n",
       "      <td>[{\"iso_639_1\": \"es\", \"name\": \"Espa\\u00f1ol\"}]</td>\n",
       "      <td>Released</td>\n",
       "      <td>Fear Revisited</td>\n",
       "      <td>[REC]²</td>\n",
       "      <td>6.4</td>\n",
       "      <td>489</td>\n",
       "    </tr>\n",
       "    <tr>\n",
       "      <th>4799</th>\n",
       "      <td>15000000</td>\n",
       "      <td>[{\"id\": 28, \"name\": \"Action\"}, {\"id\": 53, \"nam...</td>\n",
       "      <td>NaN</td>\n",
       "      <td>1946</td>\n",
       "      <td>[{\"id\": 282, \"name\": \"video game\"}, {\"id\": 215...</td>\n",
       "      <td>en</td>\n",
       "      <td>eXistenZ</td>\n",
       "      <td>A game designer on the run from assassins must...</td>\n",
       "      <td>21.928025</td>\n",
       "      <td>[{\"name\": \"Alliance Atlantis Communications\", ...</td>\n",
       "      <td>[{\"iso_3166_1\": \"CA\", \"name\": \"Canada\"}, {\"iso...</td>\n",
       "      <td>1999-04-14</td>\n",
       "      <td>2856712</td>\n",
       "      <td>97.0</td>\n",
       "      <td>[{\"iso_639_1\": \"en\", \"name\": \"English\"}]</td>\n",
       "      <td>Released</td>\n",
       "      <td>Play it. Live it. Kill for it.</td>\n",
       "      <td>eXistenZ</td>\n",
       "      <td>6.7</td>\n",
       "      <td>475</td>\n",
       "    </tr>\n",
       "    <tr>\n",
       "      <th>4800</th>\n",
       "      <td>70000000</td>\n",
       "      <td>[{\"id\": 28, \"name\": \"Action\"}, {\"id\": 12, \"nam...</td>\n",
       "      <td>http://www.sonypictures.com/movies/xxx/</td>\n",
       "      <td>7451</td>\n",
       "      <td>[{\"id\": 999, \"name\": \"sports car\"}, {\"id\": 186...</td>\n",
       "      <td>en</td>\n",
       "      <td>xXx</td>\n",
       "      <td>Xander Cage is your standard adrenaline junkie...</td>\n",
       "      <td>46.217769</td>\n",
       "      <td>[{\"name\": \"Columbia Pictures\", \"id\": 5}, {\"nam...</td>\n",
       "      <td>[{\"iso_3166_1\": \"US\", \"name\": \"United States o...</td>\n",
       "      <td>2002-08-09</td>\n",
       "      <td>277448382</td>\n",
       "      <td>124.0</td>\n",
       "      <td>[{\"iso_639_1\": \"cs\", \"name\": \"\\u010cesk\\u00fd\"...</td>\n",
       "      <td>Released</td>\n",
       "      <td>A New Breed Of Secret Agent.</td>\n",
       "      <td>xXx</td>\n",
       "      <td>5.8</td>\n",
       "      <td>1424</td>\n",
       "    </tr>\n",
       "    <tr>\n",
       "      <th>4801</th>\n",
       "      <td>60000000</td>\n",
       "      <td>[{\"id\": 28, \"name\": \"Action\"}, {\"id\": 12, \"nam...</td>\n",
       "      <td>http://www.sonypictures.com/movies/xxxstateoft...</td>\n",
       "      <td>11679</td>\n",
       "      <td>[{\"id\": 521, \"name\": \"washington d.c.\"}, {\"id\"...</td>\n",
       "      <td>en</td>\n",
       "      <td>xXx: State of the Union</td>\n",
       "      <td>Ice Cube stars as Darius Stone, a thrill-seeki...</td>\n",
       "      <td>36.689223</td>\n",
       "      <td>[{\"name\": \"Original Film\", \"id\": 333}, {\"name\"...</td>\n",
       "      <td>[{\"iso_3166_1\": \"US\", \"name\": \"United States o...</td>\n",
       "      <td>2005-04-27</td>\n",
       "      <td>71073932</td>\n",
       "      <td>101.0</td>\n",
       "      <td>[{\"iso_639_1\": \"en\", \"name\": \"English\"}]</td>\n",
       "      <td>Released</td>\n",
       "      <td>Prepare for the next level</td>\n",
       "      <td>xXx: State of the Union</td>\n",
       "      <td>4.7</td>\n",
       "      <td>549</td>\n",
       "    </tr>\n",
       "    <tr>\n",
       "      <th>4802</th>\n",
       "      <td>62000000</td>\n",
       "      <td>[{\"id\": 28, \"name\": \"Action\"}, {\"id\": 878, \"na...</td>\n",
       "      <td>NaN</td>\n",
       "      <td>8202</td>\n",
       "      <td>[{\"id\": 779, \"name\": \"martial arts\"}, {\"id\": 4...</td>\n",
       "      <td>en</td>\n",
       "      <td>Æon Flux</td>\n",
       "      <td>400 years into the future, disease has wiped o...</td>\n",
       "      <td>29.954302</td>\n",
       "      <td>[{\"name\": \"Paramount Pictures\", \"id\": 4}, {\"na...</td>\n",
       "      <td>[{\"iso_3166_1\": \"US\", \"name\": \"United States o...</td>\n",
       "      <td>2005-11-30</td>\n",
       "      <td>52304001</td>\n",
       "      <td>93.0</td>\n",
       "      <td>[{\"iso_639_1\": \"en\", \"name\": \"English\"}]</td>\n",
       "      <td>Released</td>\n",
       "      <td>The Perfect World Meets The Perfect Assassin</td>\n",
       "      <td>Æon Flux</td>\n",
       "      <td>5.4</td>\n",
       "      <td>703</td>\n",
       "    </tr>\n",
       "  </tbody>\n",
       "</table>\n",
       "<p>4803 rows × 20 columns</p>\n",
       "</div>"
      ],
      "text/plain": [
       "        budget                                             genres  \\\n",
       "0      1500000  [{\"id\": 18, \"name\": \"Drama\"}, {\"id\": 9648, \"na...   \n",
       "1      7500000  [{\"id\": 35, \"name\": \"Comedy\"}, {\"id\": 18, \"nam...   \n",
       "2     15000000  [{\"id\": 53, \"name\": \"Thriller\"}, {\"id\": 878, \"...   \n",
       "3      1200000                      [{\"id\": 18, \"name\": \"Drama\"}]   \n",
       "4     16000000  [{\"id\": 35, \"name\": \"Comedy\"}, {\"id\": 10749, \"...   \n",
       "...        ...                                                ...   \n",
       "4798   5600000  [{\"id\": 53, \"name\": \"Thriller\"}, {\"id\": 27, \"n...   \n",
       "4799  15000000  [{\"id\": 28, \"name\": \"Action\"}, {\"id\": 53, \"nam...   \n",
       "4800  70000000  [{\"id\": 28, \"name\": \"Action\"}, {\"id\": 12, \"nam...   \n",
       "4801  60000000  [{\"id\": 28, \"name\": \"Action\"}, {\"id\": 12, \"nam...   \n",
       "4802  62000000  [{\"id\": 28, \"name\": \"Action\"}, {\"id\": 878, \"na...   \n",
       "\n",
       "                                               homepage      id  \\\n",
       "0                         http://www.hashtaghorror.com/  301325   \n",
       "1                                    http://500days.com   19913   \n",
       "2                     http://www.10cloverfieldlane.com/  333371   \n",
       "3                                                   NaN  345003   \n",
       "4                                                   NaN    4951   \n",
       "...                                                 ...     ...   \n",
       "4798                       http://www.rec2themovie.com/   10664   \n",
       "4799                                                NaN    1946   \n",
       "4800            http://www.sonypictures.com/movies/xxx/    7451   \n",
       "4801  http://www.sonypictures.com/movies/xxxstateoft...   11679   \n",
       "4802                                                NaN    8202   \n",
       "\n",
       "                                               keywords original_language  \\\n",
       "0                                                    []                de   \n",
       "1     [{\"id\": 248, \"name\": \"date\"}, {\"id\": 572, \"nam...                en   \n",
       "2     [{\"id\": 1930, \"name\": \"kidnapping\"}, {\"id\": 23...                en   \n",
       "3     [{\"id\": 1568, \"name\": \"undercover\"}, {\"id\": 49...                en   \n",
       "4     [{\"id\": 497, \"name\": \"shakespeare\"}, {\"id\": 59...                en   \n",
       "...                                                 ...               ...   \n",
       "4798  [{\"id\": 3684, \"name\": \"religion and supernatur...                es   \n",
       "4799  [{\"id\": 282, \"name\": \"video game\"}, {\"id\": 215...                en   \n",
       "4800  [{\"id\": 999, \"name\": \"sports car\"}, {\"id\": 186...                en   \n",
       "4801  [{\"id\": 521, \"name\": \"washington d.c.\"}, {\"id\"...                en   \n",
       "4802  [{\"id\": 779, \"name\": \"martial arts\"}, {\"id\": 4...                en   \n",
       "\n",
       "                  original_title  \\\n",
       "0                        #Horror   \n",
       "1           (500) Days of Summer   \n",
       "2            10 Cloverfield Lane   \n",
       "3          10 Days in a Madhouse   \n",
       "4     10 Things I Hate About You   \n",
       "...                          ...   \n",
       "4798                      [REC]²   \n",
       "4799                    eXistenZ   \n",
       "4800                         xXx   \n",
       "4801     xXx: State of the Union   \n",
       "4802                    Æon Flux   \n",
       "\n",
       "                                               overview  popularity  \\\n",
       "0     Inspired by actual events, a group of 12 year ...    2.815228   \n",
       "1     Tom (Joseph Gordon-Levitt), greeting-card writ...   45.610993   \n",
       "2     After a car accident, Michelle awakens to find...   53.698683   \n",
       "3     Nellie Bly, a 23 year-old reporter for Joseph ...    0.489271   \n",
       "4     Bianca, a tenth grader, has never gone on a da...   54.550275   \n",
       "...                                                 ...         ...   \n",
       "4798  The action continues from [REC], with the medi...   22.341462   \n",
       "4799  A game designer on the run from assassins must...   21.928025   \n",
       "4800  Xander Cage is your standard adrenaline junkie...   46.217769   \n",
       "4801  Ice Cube stars as Darius Stone, a thrill-seeki...   36.689223   \n",
       "4802  400 years into the future, disease has wiped o...   29.954302   \n",
       "\n",
       "                                   production_companies  \\\n",
       "0     [{\"name\": \"AST Studios\", \"id\": 75277}, {\"name\"...   \n",
       "1     [{\"name\": \"Fox Searchlight Pictures\", \"id\": 43...   \n",
       "2     [{\"name\": \"Paramount Pictures\", \"id\": 4}, {\"na...   \n",
       "3                                                    []   \n",
       "4     [{\"name\": \"Mad Chance\", \"id\": 1757}, {\"name\": ...   \n",
       "...                                                 ...   \n",
       "4798                   [{\"name\": \"Filmax\", \"id\": 3631}]   \n",
       "4799  [{\"name\": \"Alliance Atlantis Communications\", ...   \n",
       "4800  [{\"name\": \"Columbia Pictures\", \"id\": 5}, {\"nam...   \n",
       "4801  [{\"name\": \"Original Film\", \"id\": 333}, {\"name\"...   \n",
       "4802  [{\"name\": \"Paramount Pictures\", \"id\": 4}, {\"na...   \n",
       "\n",
       "                                   production_countries release_date  \\\n",
       "0     [{\"iso_3166_1\": \"US\", \"name\": \"United States o...   2015-11-20   \n",
       "1     [{\"iso_3166_1\": \"US\", \"name\": \"United States o...   2009-07-17   \n",
       "2     [{\"iso_3166_1\": \"US\", \"name\": \"United States o...   2016-03-10   \n",
       "3     [{\"iso_3166_1\": \"US\", \"name\": \"United States o...   2015-11-20   \n",
       "4     [{\"iso_3166_1\": \"US\", \"name\": \"United States o...   1999-03-30   \n",
       "...                                                 ...          ...   \n",
       "4798            [{\"iso_3166_1\": \"ES\", \"name\": \"Spain\"}]   2009-09-15   \n",
       "4799  [{\"iso_3166_1\": \"CA\", \"name\": \"Canada\"}, {\"iso...   1999-04-14   \n",
       "4800  [{\"iso_3166_1\": \"US\", \"name\": \"United States o...   2002-08-09   \n",
       "4801  [{\"iso_3166_1\": \"US\", \"name\": \"United States o...   2005-04-27   \n",
       "4802  [{\"iso_3166_1\": \"US\", \"name\": \"United States o...   2005-11-30   \n",
       "\n",
       "        revenue  runtime                                   spoken_languages  \\\n",
       "0             0     90.0  [{\"iso_639_1\": \"en\", \"name\": \"English\"}, {\"iso...   \n",
       "1      60722734     95.0  [{\"iso_639_1\": \"en\", \"name\": \"English\"}, {\"iso...   \n",
       "2     108286421    103.0           [{\"iso_639_1\": \"en\", \"name\": \"English\"}]   \n",
       "3             0    111.0           [{\"iso_639_1\": \"en\", \"name\": \"English\"}]   \n",
       "4      53478166     97.0  [{\"iso_639_1\": \"en\", \"name\": \"English\"}, {\"iso...   \n",
       "...         ...      ...                                                ...   \n",
       "4798   18469680     85.0      [{\"iso_639_1\": \"es\", \"name\": \"Espa\\u00f1ol\"}]   \n",
       "4799    2856712     97.0           [{\"iso_639_1\": \"en\", \"name\": \"English\"}]   \n",
       "4800  277448382    124.0  [{\"iso_639_1\": \"cs\", \"name\": \"\\u010cesk\\u00fd\"...   \n",
       "4801   71073932    101.0           [{\"iso_639_1\": \"en\", \"name\": \"English\"}]   \n",
       "4802   52304001     93.0           [{\"iso_639_1\": \"en\", \"name\": \"English\"}]   \n",
       "\n",
       "        status                                       tagline  \\\n",
       "0     Released                            Death is trending.   \n",
       "1     Released           It was almost like falling in love.   \n",
       "2     Released                  Monsters come in many forms.   \n",
       "3     Released                                           NaN   \n",
       "4     Released  How do I loathe thee? Let me count the ways.   \n",
       "...        ...                                           ...   \n",
       "4798  Released                                Fear Revisited   \n",
       "4799  Released                Play it. Live it. Kill for it.   \n",
       "4800  Released                  A New Breed Of Secret Agent.   \n",
       "4801  Released                    Prepare for the next level   \n",
       "4802  Released  The Perfect World Meets The Perfect Assassin   \n",
       "\n",
       "                           title  vote_average  vote_count  \n",
       "0                        #Horror           3.3          52  \n",
       "1           (500) Days of Summer           7.2        2904  \n",
       "2            10 Cloverfield Lane           6.8        2468  \n",
       "3          10 Days in a Madhouse           4.3           5  \n",
       "4     10 Things I Hate About You           7.3        1701  \n",
       "...                          ...           ...         ...  \n",
       "4798                      [REC]²           6.4         489  \n",
       "4799                    eXistenZ           6.7         475  \n",
       "4800                         xXx           5.8        1424  \n",
       "4801     xXx: State of the Union           4.7         549  \n",
       "4802                    Æon Flux           5.4         703  \n",
       "\n",
       "[4803 rows x 20 columns]"
      ]
     },
     "execution_count": 14,
     "metadata": {},
     "output_type": "execute_result"
    }
   ],
   "source": [
    "df_list['movies_csv']"
   ]
  },
  {
   "cell_type": "markdown",
   "id": "35c07385",
   "metadata": {},
   "source": [
    "# remove founded columns from dataframes excluding dataframe having max columns"
   ]
  },
  {
   "cell_type": "code",
   "execution_count": 15,
   "id": "c4807fa4",
   "metadata": {},
   "outputs": [
    {
     "name": "stdout",
     "output_type": "stream",
     "text": [
      "['budget', 'genres', 'homepage', 'id', 'keywords', 'original_language', 'original_title', 'overview', 'popularity', 'production_companies', 'production_countries', 'release_date', 'revenue', 'runtime', 'spoken_languages', 'status', 'tagline', 'vote_average', 'vote_count']\n"
     ]
    }
   ],
   "source": [
    "if max_length in key_dict['length']:\n",
    "        wanted_cols = []\n",
    "        for i in range(0,len(key_dict['keys'])):\n",
    "            if(i != lenth_pos):\n",
    "                wanted_cols.append(key_dict['keys'][i].values) # for storing keys\n",
    "                wanted_cols = np.ravel(wanted_cols) # for converting into 1d numpy array\n",
    "                wanted_cols = wanted_cols.tolist() # for converting into list                \n",
    "\n",
    "                if common_column in wanted_cols:\n",
    "                    location = wanted_cols.index(common_column)\n",
    "                    wanted_cols = np.delete(wanted_cols,location)\n",
    "                    wanted_cols = wanted_cols.tolist()\n",
    "                    print(wanted_cols)\n",
    "else:\n",
    "    print('Not Present')\n",
    "    "
   ]
  },
  {
   "cell_type": "code",
   "execution_count": 16,
   "id": "c0d8a51c",
   "metadata": {},
   "outputs": [
    {
     "ename": "KeyError",
     "evalue": "\"None of [Index(['budget', 'genres', 'homepage', 'id', 'keywords', 'original_language',\\n       'original_title', 'overview', 'popularity', 'production_companies',\\n       'production_countries', 'release_date', 'revenue', 'runtime',\\n       'spoken_languages', 'status', 'tagline', 'vote_average', 'vote_count'],\\n      dtype='object')] are in the [columns]\"",
     "output_type": "error",
     "traceback": [
      "\u001b[1;31m---------------------------------------------------------------------------\u001b[0m",
      "\u001b[1;31mKeyError\u001b[0m                                  Traceback (most recent call last)",
      "Cell \u001b[1;32mIn[16], line 1\u001b[0m\n\u001b[1;32m----> 1\u001b[0m df_list[\u001b[38;5;124m'\u001b[39m\u001b[38;5;124mcredits_csv\u001b[39m\u001b[38;5;124m'\u001b[39m]\u001b[38;5;241m.\u001b[39mloc[:,wanted_cols]\n",
      "File \u001b[1;32m~\\anaconda3\\Lib\\site-packages\\pandas\\core\\indexing.py:1067\u001b[0m, in \u001b[0;36m_LocationIndexer.__getitem__\u001b[1;34m(self, key)\u001b[0m\n\u001b[0;32m   1065\u001b[0m     \u001b[38;5;28;01mif\u001b[39;00m \u001b[38;5;28mself\u001b[39m\u001b[38;5;241m.\u001b[39m_is_scalar_access(key):\n\u001b[0;32m   1066\u001b[0m         \u001b[38;5;28;01mreturn\u001b[39;00m \u001b[38;5;28mself\u001b[39m\u001b[38;5;241m.\u001b[39mobj\u001b[38;5;241m.\u001b[39m_get_value(\u001b[38;5;241m*\u001b[39mkey, takeable\u001b[38;5;241m=\u001b[39m\u001b[38;5;28mself\u001b[39m\u001b[38;5;241m.\u001b[39m_takeable)\n\u001b[1;32m-> 1067\u001b[0m     \u001b[38;5;28;01mreturn\u001b[39;00m \u001b[38;5;28mself\u001b[39m\u001b[38;5;241m.\u001b[39m_getitem_tuple(key)\n\u001b[0;32m   1068\u001b[0m \u001b[38;5;28;01melse\u001b[39;00m:\n\u001b[0;32m   1069\u001b[0m     \u001b[38;5;66;03m# we by definition only have the 0th axis\u001b[39;00m\n\u001b[0;32m   1070\u001b[0m     axis \u001b[38;5;241m=\u001b[39m \u001b[38;5;28mself\u001b[39m\u001b[38;5;241m.\u001b[39maxis \u001b[38;5;129;01mor\u001b[39;00m \u001b[38;5;241m0\u001b[39m\n",
      "File \u001b[1;32m~\\anaconda3\\Lib\\site-packages\\pandas\\core\\indexing.py:1256\u001b[0m, in \u001b[0;36m_LocIndexer._getitem_tuple\u001b[1;34m(self, tup)\u001b[0m\n\u001b[0;32m   1253\u001b[0m \u001b[38;5;28;01mif\u001b[39;00m \u001b[38;5;28mself\u001b[39m\u001b[38;5;241m.\u001b[39m_multi_take_opportunity(tup):\n\u001b[0;32m   1254\u001b[0m     \u001b[38;5;28;01mreturn\u001b[39;00m \u001b[38;5;28mself\u001b[39m\u001b[38;5;241m.\u001b[39m_multi_take(tup)\n\u001b[1;32m-> 1256\u001b[0m \u001b[38;5;28;01mreturn\u001b[39;00m \u001b[38;5;28mself\u001b[39m\u001b[38;5;241m.\u001b[39m_getitem_tuple_same_dim(tup)\n",
      "File \u001b[1;32m~\\anaconda3\\Lib\\site-packages\\pandas\\core\\indexing.py:924\u001b[0m, in \u001b[0;36m_LocationIndexer._getitem_tuple_same_dim\u001b[1;34m(self, tup)\u001b[0m\n\u001b[0;32m    921\u001b[0m \u001b[38;5;28;01mif\u001b[39;00m com\u001b[38;5;241m.\u001b[39mis_null_slice(key):\n\u001b[0;32m    922\u001b[0m     \u001b[38;5;28;01mcontinue\u001b[39;00m\n\u001b[1;32m--> 924\u001b[0m retval \u001b[38;5;241m=\u001b[39m \u001b[38;5;28mgetattr\u001b[39m(retval, \u001b[38;5;28mself\u001b[39m\u001b[38;5;241m.\u001b[39mname)\u001b[38;5;241m.\u001b[39m_getitem_axis(key, axis\u001b[38;5;241m=\u001b[39mi)\n\u001b[0;32m    925\u001b[0m \u001b[38;5;66;03m# We should never have retval.ndim < self.ndim, as that should\u001b[39;00m\n\u001b[0;32m    926\u001b[0m \u001b[38;5;66;03m#  be handled by the _getitem_lowerdim call above.\u001b[39;00m\n\u001b[0;32m    927\u001b[0m \u001b[38;5;28;01massert\u001b[39;00m retval\u001b[38;5;241m.\u001b[39mndim \u001b[38;5;241m==\u001b[39m \u001b[38;5;28mself\u001b[39m\u001b[38;5;241m.\u001b[39mndim\n",
      "File \u001b[1;32m~\\anaconda3\\Lib\\site-packages\\pandas\\core\\indexing.py:1301\u001b[0m, in \u001b[0;36m_LocIndexer._getitem_axis\u001b[1;34m(self, key, axis)\u001b[0m\n\u001b[0;32m   1298\u001b[0m     \u001b[38;5;28;01mif\u001b[39;00m \u001b[38;5;28mhasattr\u001b[39m(key, \u001b[38;5;124m\"\u001b[39m\u001b[38;5;124mndim\u001b[39m\u001b[38;5;124m\"\u001b[39m) \u001b[38;5;129;01mand\u001b[39;00m key\u001b[38;5;241m.\u001b[39mndim \u001b[38;5;241m>\u001b[39m \u001b[38;5;241m1\u001b[39m:\n\u001b[0;32m   1299\u001b[0m         \u001b[38;5;28;01mraise\u001b[39;00m \u001b[38;5;167;01mValueError\u001b[39;00m(\u001b[38;5;124m\"\u001b[39m\u001b[38;5;124mCannot index with multidimensional key\u001b[39m\u001b[38;5;124m\"\u001b[39m)\n\u001b[1;32m-> 1301\u001b[0m     \u001b[38;5;28;01mreturn\u001b[39;00m \u001b[38;5;28mself\u001b[39m\u001b[38;5;241m.\u001b[39m_getitem_iterable(key, axis\u001b[38;5;241m=\u001b[39maxis)\n\u001b[0;32m   1303\u001b[0m \u001b[38;5;66;03m# nested tuple slicing\u001b[39;00m\n\u001b[0;32m   1304\u001b[0m \u001b[38;5;28;01mif\u001b[39;00m is_nested_tuple(key, labels):\n",
      "File \u001b[1;32m~\\anaconda3\\Lib\\site-packages\\pandas\\core\\indexing.py:1239\u001b[0m, in \u001b[0;36m_LocIndexer._getitem_iterable\u001b[1;34m(self, key, axis)\u001b[0m\n\u001b[0;32m   1236\u001b[0m \u001b[38;5;28mself\u001b[39m\u001b[38;5;241m.\u001b[39m_validate_key(key, axis)\n\u001b[0;32m   1238\u001b[0m \u001b[38;5;66;03m# A collection of keys\u001b[39;00m\n\u001b[1;32m-> 1239\u001b[0m keyarr, indexer \u001b[38;5;241m=\u001b[39m \u001b[38;5;28mself\u001b[39m\u001b[38;5;241m.\u001b[39m_get_listlike_indexer(key, axis)\n\u001b[0;32m   1240\u001b[0m \u001b[38;5;28;01mreturn\u001b[39;00m \u001b[38;5;28mself\u001b[39m\u001b[38;5;241m.\u001b[39mobj\u001b[38;5;241m.\u001b[39m_reindex_with_indexers(\n\u001b[0;32m   1241\u001b[0m     {axis: [keyarr, indexer]}, copy\u001b[38;5;241m=\u001b[39m\u001b[38;5;28;01mTrue\u001b[39;00m, allow_dups\u001b[38;5;241m=\u001b[39m\u001b[38;5;28;01mTrue\u001b[39;00m\n\u001b[0;32m   1242\u001b[0m )\n",
      "File \u001b[1;32m~\\anaconda3\\Lib\\site-packages\\pandas\\core\\indexing.py:1432\u001b[0m, in \u001b[0;36m_LocIndexer._get_listlike_indexer\u001b[1;34m(self, key, axis)\u001b[0m\n\u001b[0;32m   1429\u001b[0m ax \u001b[38;5;241m=\u001b[39m \u001b[38;5;28mself\u001b[39m\u001b[38;5;241m.\u001b[39mobj\u001b[38;5;241m.\u001b[39m_get_axis(axis)\n\u001b[0;32m   1430\u001b[0m axis_name \u001b[38;5;241m=\u001b[39m \u001b[38;5;28mself\u001b[39m\u001b[38;5;241m.\u001b[39mobj\u001b[38;5;241m.\u001b[39m_get_axis_name(axis)\n\u001b[1;32m-> 1432\u001b[0m keyarr, indexer \u001b[38;5;241m=\u001b[39m ax\u001b[38;5;241m.\u001b[39m_get_indexer_strict(key, axis_name)\n\u001b[0;32m   1434\u001b[0m \u001b[38;5;28;01mreturn\u001b[39;00m keyarr, indexer\n",
      "File \u001b[1;32m~\\anaconda3\\Lib\\site-packages\\pandas\\core\\indexes\\base.py:6070\u001b[0m, in \u001b[0;36mIndex._get_indexer_strict\u001b[1;34m(self, key, axis_name)\u001b[0m\n\u001b[0;32m   6067\u001b[0m \u001b[38;5;28;01melse\u001b[39;00m:\n\u001b[0;32m   6068\u001b[0m     keyarr, indexer, new_indexer \u001b[38;5;241m=\u001b[39m \u001b[38;5;28mself\u001b[39m\u001b[38;5;241m.\u001b[39m_reindex_non_unique(keyarr)\n\u001b[1;32m-> 6070\u001b[0m \u001b[38;5;28mself\u001b[39m\u001b[38;5;241m.\u001b[39m_raise_if_missing(keyarr, indexer, axis_name)\n\u001b[0;32m   6072\u001b[0m keyarr \u001b[38;5;241m=\u001b[39m \u001b[38;5;28mself\u001b[39m\u001b[38;5;241m.\u001b[39mtake(indexer)\n\u001b[0;32m   6073\u001b[0m \u001b[38;5;28;01mif\u001b[39;00m \u001b[38;5;28misinstance\u001b[39m(key, Index):\n\u001b[0;32m   6074\u001b[0m     \u001b[38;5;66;03m# GH 42790 - Preserve name from an Index\u001b[39;00m\n",
      "File \u001b[1;32m~\\anaconda3\\Lib\\site-packages\\pandas\\core\\indexes\\base.py:6130\u001b[0m, in \u001b[0;36mIndex._raise_if_missing\u001b[1;34m(self, key, indexer, axis_name)\u001b[0m\n\u001b[0;32m   6128\u001b[0m     \u001b[38;5;28;01mif\u001b[39;00m use_interval_msg:\n\u001b[0;32m   6129\u001b[0m         key \u001b[38;5;241m=\u001b[39m \u001b[38;5;28mlist\u001b[39m(key)\n\u001b[1;32m-> 6130\u001b[0m     \u001b[38;5;28;01mraise\u001b[39;00m \u001b[38;5;167;01mKeyError\u001b[39;00m(\u001b[38;5;124mf\u001b[39m\u001b[38;5;124m\"\u001b[39m\u001b[38;5;124mNone of [\u001b[39m\u001b[38;5;132;01m{\u001b[39;00mkey\u001b[38;5;132;01m}\u001b[39;00m\u001b[38;5;124m] are in the [\u001b[39m\u001b[38;5;132;01m{\u001b[39;00maxis_name\u001b[38;5;132;01m}\u001b[39;00m\u001b[38;5;124m]\u001b[39m\u001b[38;5;124m\"\u001b[39m)\n\u001b[0;32m   6132\u001b[0m not_found \u001b[38;5;241m=\u001b[39m \u001b[38;5;28mlist\u001b[39m(ensure_index(key)[missing_mask\u001b[38;5;241m.\u001b[39mnonzero()[\u001b[38;5;241m0\u001b[39m]]\u001b[38;5;241m.\u001b[39munique())\n\u001b[0;32m   6133\u001b[0m \u001b[38;5;28;01mraise\u001b[39;00m \u001b[38;5;167;01mKeyError\u001b[39;00m(\u001b[38;5;124mf\u001b[39m\u001b[38;5;124m\"\u001b[39m\u001b[38;5;132;01m{\u001b[39;00mnot_found\u001b[38;5;132;01m}\u001b[39;00m\u001b[38;5;124m not in index\u001b[39m\u001b[38;5;124m\"\u001b[39m)\n",
      "\u001b[1;31mKeyError\u001b[0m: \"None of [Index(['budget', 'genres', 'homepage', 'id', 'keywords', 'original_language',\\n       'original_title', 'overview', 'popularity', 'production_companies',\\n       'production_countries', 'release_date', 'revenue', 'runtime',\\n       'spoken_languages', 'status', 'tagline', 'vote_average', 'vote_count'],\\n      dtype='object')] are in the [columns]\""
     ]
    }
   ],
   "source": [
    "df_list['credits_csv'].loc[:,wanted_cols]"
   ]
  },
  {
   "cell_type": "code",
   "execution_count": null,
   "id": "415f3eee",
   "metadata": {},
   "outputs": [],
   "source": [
    "file_count = 0\n",
    "for k in df_list:\n",
    "    if file_count != lenth_pos:\n",
    "        print(k)\n",
    "        df_list[k] = df_list[k].loc[:,wanted_cols]\n",
    "        file_count+=1"
   ]
  },
  {
   "cell_type": "code",
   "execution_count": null,
   "id": "6d7ba435",
   "metadata": {},
   "outputs": [],
   "source": [
    "df_list['credits_csv']"
   ]
  },
  {
   "cell_type": "code",
   "execution_count": null,
   "id": "be7df10e",
   "metadata": {},
   "outputs": [],
   "source": [
    "df_list['movies_csv']"
   ]
  },
  {
   "cell_type": "code",
   "execution_count": null,
   "id": "2aaff0cd",
   "metadata": {},
   "outputs": [],
   "source": [
    "frame_keys = []\n",
    "for i in df_list:\n",
    "    frames = df_list[i]\n",
    "    frame_keys.append(frames.keys().values)\n",
    "    \n",
    "np_frame_single = np.concatenate(frame_keys)\n",
    "\n",
    "frame_keys = np_frame_single.tolist()\n",
    "print(frame_keys)"
   ]
  },
  {
   "cell_type": "markdown",
   "id": "2f39816f",
   "metadata": {},
   "source": [
    "# merging all dataframes in one movie dataframe"
   ]
  },
  {
   "cell_type": "code",
   "execution_count": null,
   "id": "a0bd1986",
   "metadata": {},
   "outputs": [],
   "source": [
    "movies = []\n",
    "for i in df_list:\n",
    "    movies.append(df_list[i])\n",
    "        \n",
    "movies = pd.concat(movies,axis=1,ignore_index=1)"
   ]
  },
  {
   "cell_type": "code",
   "execution_count": null,
   "id": "bd7d4ff6",
   "metadata": {},
   "outputs": [],
   "source": [
    "frame_counter = 0\n",
    "frame_dict = {}\n",
    "for i in frame_keys:\n",
    "    frame_dict[frame_counter] = i\n",
    "    frame_counter+=1"
   ]
  },
  {
   "cell_type": "code",
   "execution_count": null,
   "id": "5bb2012a",
   "metadata": {},
   "outputs": [],
   "source": [
    "print(frame_dict)"
   ]
  },
  {
   "cell_type": "code",
   "execution_count": null,
   "id": "0fac424f",
   "metadata": {},
   "outputs": [],
   "source": [
    "movies.rename(columns=frame_dict,inplace=t)\n",
    "movies"
   ]
  },
  {
   "cell_type": "code",
   "execution_count": null,
   "id": "8c78cb23",
   "metadata": {},
   "outputs": [],
   "source": [
    "movies.rename(columns={'vote_average':'rating'},inplace=t)"
   ]
  },
  {
   "cell_type": "markdown",
   "id": "7c9d3424",
   "metadata": {},
   "source": [
    "# Data Preprocessing start"
   ]
  },
  {
   "cell_type": "code",
   "execution_count": null,
   "id": "1ed36bd5",
   "metadata": {
    "scrolled": true
   },
   "outputs": [],
   "source": [
    "selected_cols = []\n",
    "select_count = 0\n",
    "print()\n",
    "print('do you want to add this column for analysis')\n",
    "print()\n",
    "for i in movies:\n",
    "    print(f'{select_count+1}.) {i} => Type y / n :- ')\n",
    "    print(movies[i].head(5))\n",
    "    print()\n",
    "    print('single value contain this type of data :- ',movies[i][0])\n",
    "    choice = input()\n",
    "    if (choice == 'y' or choice == 'Y'):\n",
    "        selected_cols.append(i)\n",
    "        print('Selected')\n",
    "        print('''\n",
    "        ------------------------------------------------\n",
    "        ''')\n",
    "    elif (choice == 'n' or choice == 'N'):\n",
    "        print('Not Selected')\n",
    "        print('''\n",
    "        ------------------------------------------------\n",
    "        ''')\n",
    "    select_count+=1"
   ]
  },
  {
   "cell_type": "code",
   "execution_count": null,
   "id": "77324c22",
   "metadata": {},
   "outputs": [],
   "source": [
    "print(selected_cols)"
   ]
  },
  {
   "cell_type": "code",
   "execution_count": null,
   "id": "d3c46615",
   "metadata": {},
   "outputs": [],
   "source": [
    "movies_new = movies[selected_cols]"
   ]
  },
  {
   "cell_type": "code",
   "execution_count": null,
   "id": "5cb2d4bb",
   "metadata": {},
   "outputs": [],
   "source": [
    "movies_new"
   ]
  },
  {
   "cell_type": "code",
   "execution_count": null,
   "id": "9e562750",
   "metadata": {},
   "outputs": [],
   "source": [
    "movies_new.info()"
   ]
  },
  {
   "cell_type": "code",
   "execution_count": null,
   "id": "035fc309",
   "metadata": {},
   "outputs": [],
   "source": [
    "movies_new.isnull().sum()"
   ]
  },
  {
   "cell_type": "markdown",
   "id": "a532e408",
   "metadata": {},
   "source": [
    "# getting year from release date"
   ]
  },
  {
   "cell_type": "code",
   "execution_count": null,
   "id": "585d9310",
   "metadata": {
    "scrolled": true
   },
   "outputs": [],
   "source": [
    "movies_new['release_date'][0]"
   ]
  },
  {
   "cell_type": "code",
   "execution_count": null,
   "id": "3fa6dd49",
   "metadata": {},
   "outputs": [],
   "source": [
    "from datetime import datetime"
   ]
  },
  {
   "cell_type": "code",
   "execution_count": null,
   "id": "1a975247",
   "metadata": {},
   "outputs": [],
   "source": [
    "demo_date = '2015-11-20'\n",
    "demo_date_format = \"%Y-%m-%d\"\n",
    "demo_date = datetime.strptime(demo_date,demo_date_format)\n",
    "print(demo_date.year)"
   ]
  },
  {
   "cell_type": "code",
   "execution_count": null,
   "id": "80c988e9",
   "metadata": {},
   "outputs": [],
   "source": [
    "dummy_dates = ['2012-07-16','2019-08-15','2010-03-12','nan','2010-03-12']\n",
    "dummy_year = []\n",
    "for i in dummy_dates:\n",
    "    #print(i)\n",
    "    if i != 'nan':\n",
    "        date_year = datetime.strptime(i, \"%Y-%m-%d\")\n",
    "        dummy_year.append(date_year.year)\n",
    "    else:\n",
    "        dummy_year.append(None)\n",
    "    \n",
    "print(dummy_year)"
   ]
  },
  {
   "cell_type": "code",
   "execution_count": null,
   "id": "c162fc19",
   "metadata": {},
   "outputs": [],
   "source": [
    "year = []\n",
    "for i in movies_new['release_date']:\n",
    "    if str(i) != 'nan':\n",
    "        release = datetime.strptime(str(i), \"%Y-%m-%d\")\n",
    "        year.append(str(release.year))\n",
    "    else:\n",
    "        year.append(None)\n",
    "# print(year)\n",
    "movies_new['year'] = year"
   ]
  },
  {
   "cell_type": "code",
   "execution_count": null,
   "id": "25edc1ae",
   "metadata": {
    "scrolled": false
   },
   "outputs": [],
   "source": [
    "movies_new['year'].dtype"
   ]
  },
  {
   "cell_type": "code",
   "execution_count": null,
   "id": "5e7271d6",
   "metadata": {},
   "outputs": [],
   "source": [
    "movies_new"
   ]
  },
  {
   "cell_type": "markdown",
   "id": "418c777d",
   "metadata": {},
   "source": [
    "# getting names data"
   ]
  },
  {
   "cell_type": "code",
   "execution_count": null,
   "id": "bc3601b5",
   "metadata": {},
   "outputs": [],
   "source": [
    "import ast"
   ]
  },
  {
   "cell_type": "code",
   "execution_count": null,
   "id": "4ce8fe38",
   "metadata": {},
   "outputs": [],
   "source": [
    "def gettingName(obj):\n",
    "    name_list=[]\n",
    "    for i in ast.literal_eval(obj):\n",
    "        name_list.append(i['name'])\n",
    "    return name_list"
   ]
  },
  {
   "cell_type": "code",
   "execution_count": null,
   "id": "d1487b3c",
   "metadata": {},
   "outputs": [],
   "source": [
    "def gettingDirector(obj):\n",
    "    director_name = []\n",
    "    name_count = 0\n",
    "    for i in ast.literal_eval(obj):\n",
    "        if (i['job']=='Director'):\n",
    "            if name_count <= 1:\n",
    "                director_name.append(i['name'])\n",
    "        name_count+=1\n",
    "    return director_name"
   ]
  },
  {
   "cell_type": "code",
   "execution_count": null,
   "id": "69af4666",
   "metadata": {},
   "outputs": [],
   "source": [
    "def nameMerger(obj):\n",
    "    merge_name = []\n",
    "    for i in obj:\n",
    "        merge_name.append(i.replace(' ',''))\n",
    "    return str(merge_name)"
   ]
  },
  {
   "cell_type": "code",
   "execution_count": null,
   "id": "2cc81290",
   "metadata": {},
   "outputs": [],
   "source": [
    "movie_count = 0\n",
    "for i in movies_new:\n",
    "    col_val = movies_new[i].iloc[0]\n",
    "    if  (movies_new[i].dtype == 'object'):\n",
    "        str_col_val = str(col_val)        \n",
    "        if (str_col_val[0] == '[' and str_col_val[-1]==']'):\n",
    "            print(f'{movie_count}.) {i}')\n",
    "            #print(\"Skipped\")\n",
    "            print(\"we have these functions to apply :-\")\n",
    "            print(\"\"\"choose number according to name :-\n",
    "=> gettingName()     # 1 for getting all names.\n",
    "=> gettingDirector() # 2 for getting director names\n",
    "            \"\"\")\n",
    "            func = int(input())\n",
    "            if func == 1: \n",
    "                print('gettingName() function choosed')\n",
    "                movies_new[i] = movies_new[i].apply(gettingName)\n",
    "                movies_new[i] = movies_new[i].apply(nameMerger)\n",
    "                print('text conversion finished')\n",
    "            elif func == 2: \n",
    "                print('gettingDirector() function choosed')\n",
    "                movies_new[i] = movies_new[i].apply(gettingDirector)\n",
    "                movies_new[i] = movies_new[i].apply(nameMerger)\n",
    "                print('text conversion finished')\n",
    "            print()\n",
    "    movie_count+=1"
   ]
  },
  {
   "cell_type": "code",
   "execution_count": null,
   "id": "70967cc8",
   "metadata": {
    "scrolled": true
   },
   "outputs": [],
   "source": [
    "movies_new"
   ]
  },
  {
   "cell_type": "code",
   "execution_count": null,
   "id": "f55e2f7b",
   "metadata": {},
   "outputs": [],
   "source": [
    "lst1 = ['hello','how','are','you','?']\n",
    "conti = \"\"\n",
    "for i in lst1:\n",
    "    conti += i+\" \"\n",
    "print(conti)"
   ]
  },
  {
   "cell_type": "code",
   "execution_count": null,
   "id": "91b5bbaf",
   "metadata": {},
   "outputs": [],
   "source": [
    "def lsttostr(obj):\n",
    "    conti_str = \"\"\n",
    "    for i in ast.literal_eval(obj):\n",
    "        conti_str += i+\" \"\n",
    "    return conti_str"
   ]
  },
  {
   "cell_type": "code",
   "execution_count": null,
   "id": "8cc2c622",
   "metadata": {},
   "outputs": [],
   "source": [
    "lst2 = lsttostr(\"['hello','how','are','you','?']\")\n",
    "print(lst2)"
   ]
  },
  {
   "cell_type": "code",
   "execution_count": null,
   "id": "b67a7819",
   "metadata": {},
   "outputs": [],
   "source": [
    "for i in movies_new:\n",
    "    if movies_new[i].dtypes == 'object':\n",
    "        str_cols = str(movies_new[i][0])\n",
    "        if (str_cols[0] == '[' and str_cols[-1] == ']'):\n",
    "            print(i)\n",
    "            movies_new[i] = movies_new[i].apply(lsttostr)\n",
    "            print(movies_new[i])"
   ]
  },
  {
   "cell_type": "code",
   "execution_count": null,
   "id": "f2854526",
   "metadata": {
    "scrolled": true
   },
   "outputs": [],
   "source": [
    "movies_new"
   ]
  },
  {
   "cell_type": "code",
   "execution_count": null,
   "id": "f8536982",
   "metadata": {},
   "outputs": [],
   "source": [
    "tags = \"\"\n",
    "for i in movies_new:\n",
    "    if movies_new[i].dtype == 'object':\n",
    "        print(i)\n",
    "        print(\"want to add in tags # type y/n :- \")\n",
    "        choice = input()\n",
    "        if (choice == 'y' or choice == 'Y'):\n",
    "            tags+=movies_new[i] + \" \"\n",
    "            print('------------------')\n",
    "        elif (choice == 'n' or choice == 'N'):\n",
    "            print(\"Not choosed\")\n",
    "            print('------------------')\n",
    "        \n",
    "movies_new['tags'] = tags"
   ]
  },
  {
   "cell_type": "code",
   "execution_count": null,
   "id": "1cf46d57",
   "metadata": {},
   "outputs": [],
   "source": [
    "movies_new"
   ]
  },
  {
   "cell_type": "code",
   "execution_count": null,
   "id": "83af1b3c",
   "metadata": {},
   "outputs": [],
   "source": [
    "movies_two = movies_new[['movie_id','title','rating','vote_count','tags']]"
   ]
  },
  {
   "cell_type": "code",
   "execution_count": null,
   "id": "00648f52",
   "metadata": {},
   "outputs": [],
   "source": [
    "movies_two['tags'] = movies_two['tags'].apply(lambda x:str(x).lower())"
   ]
  },
  {
   "cell_type": "code",
   "execution_count": null,
   "id": "95c20809",
   "metadata": {},
   "outputs": [],
   "source": [
    "movies_two"
   ]
  },
  {
   "cell_type": "code",
   "execution_count": null,
   "id": "ba7b9463",
   "metadata": {},
   "outputs": [],
   "source": [
    "from nltk.tokenize import word_tokenize"
   ]
  },
  {
   "cell_type": "code",
   "execution_count": null,
   "id": "9c5ee1b9",
   "metadata": {},
   "outputs": [],
   "source": [
    "movies_two['tokenize'] = movies_two['tags'].apply(lambda x: word_tokenize(x))"
   ]
  },
  {
   "cell_type": "code",
   "execution_count": null,
   "id": "58073e21",
   "metadata": {
    "scrolled": true
   },
   "outputs": [],
   "source": [
    "movies_two"
   ]
  },
  {
   "cell_type": "markdown",
   "id": "606ccd48",
   "metadata": {},
   "source": [
    "# removing stop words"
   ]
  },
  {
   "cell_type": "code",
   "execution_count": null,
   "id": "f5547c39",
   "metadata": {
    "scrolled": true
   },
   "outputs": [],
   "source": [
    "from nltk.corpus import stopwords"
   ]
  },
  {
   "cell_type": "code",
   "execution_count": null,
   "id": "d38201fd",
   "metadata": {},
   "outputs": [],
   "source": [
    "stop_words = set(stopwords.words('english'))\n",
    "special_char = list(\"!@#$%^&*()-+?_=,<>/.~\")\n",
    "print(special_char)"
   ]
  },
  {
   "cell_type": "code",
   "execution_count": null,
   "id": "c29b275a",
   "metadata": {},
   "outputs": [],
   "source": [
    "def removingStopWords(obj):\n",
    "    stop_tags = []\n",
    "    for w in obj:\n",
    "        if w not in stop_words:\n",
    "            if w not in special_char:\n",
    "                stop_tags.append(w)\n",
    "    return stop_tags"
   ]
  },
  {
   "cell_type": "code",
   "execution_count": null,
   "id": "ebd3af0f",
   "metadata": {},
   "outputs": [],
   "source": [
    "check = removingStopWords(['this', 'is', 'a', 'sample', 'sentence', ',', 'showing', 'off', 'the', 'stop', 'words', 'filtration', '.'])\n",
    "print(check)"
   ]
  },
  {
   "cell_type": "code",
   "execution_count": null,
   "id": "5a90c558",
   "metadata": {},
   "outputs": [],
   "source": [
    "movies_two['stop_words'] = movies_two['tokenize'].apply(removingStopWords)"
   ]
  },
  {
   "cell_type": "code",
   "execution_count": null,
   "id": "a9269b8f",
   "metadata": {},
   "outputs": [],
   "source": [
    "movies_two['stop_words'][0]"
   ]
  },
  {
   "cell_type": "code",
   "execution_count": null,
   "id": "546235d1",
   "metadata": {},
   "outputs": [],
   "source": [
    "movies_two"
   ]
  },
  {
   "cell_type": "markdown",
   "id": "6b3158d9",
   "metadata": {},
   "source": [
    "# applying steeming "
   ]
  },
  {
   "cell_type": "code",
   "execution_count": null,
   "id": "fce4fb03",
   "metadata": {},
   "outputs": [],
   "source": [
    "from nltk.stem import PorterStemmer"
   ]
  },
  {
   "cell_type": "code",
   "execution_count": null,
   "id": "674e53c0",
   "metadata": {},
   "outputs": [],
   "source": [
    "ps = PorterStemmer()"
   ]
  },
  {
   "cell_type": "code",
   "execution_count": null,
   "id": "3e4152f4",
   "metadata": {},
   "outputs": [],
   "source": [
    "words = [\"program\", \"programs\", \"programmer\", \"programming\", \"programmers\"]\n",
    "\n",
    "for w in words:\n",
    "    print(w, \" : \", ps.stem(w))"
   ]
  },
  {
   "cell_type": "code",
   "execution_count": null,
   "id": "1cb2c596",
   "metadata": {},
   "outputs": [],
   "source": [
    "def stemword(obj):\n",
    "    stemTxt = []\n",
    "    for i in obj:\n",
    "        stemTxt.append(ps.stem(i))\n",
    "    return stemTxt"
   ]
  },
  {
   "cell_type": "code",
   "execution_count": null,
   "id": "9dd3a72e",
   "metadata": {},
   "outputs": [],
   "source": [
    "check = stemword([\"program\", \"programs\", \"programmer\", \"programming\", \"programmers\"])"
   ]
  },
  {
   "cell_type": "code",
   "execution_count": null,
   "id": "cb605ca4",
   "metadata": {},
   "outputs": [],
   "source": [
    "movies_two['stemming'] = movies_two['stop_words'].apply(stemword)"
   ]
  },
  {
   "cell_type": "code",
   "execution_count": null,
   "id": "232a8105",
   "metadata": {},
   "outputs": [],
   "source": [
    "movies_two['stemming'][1]"
   ]
  },
  {
   "cell_type": "markdown",
   "id": "21cbe860",
   "metadata": {},
   "source": [
    "# getting columns in which need to recommendation"
   ]
  },
  {
   "cell_type": "code",
   "execution_count": null,
   "id": "06c2f9dd",
   "metadata": {},
   "outputs": [],
   "source": [
    "movies = movies_two[['movie_id','title','rating','vote_count','stemming']]"
   ]
  },
  {
   "cell_type": "code",
   "execution_count": null,
   "id": "0f292713",
   "metadata": {},
   "outputs": [],
   "source": [
    "movies"
   ]
  },
  {
   "cell_type": "code",
   "execution_count": null,
   "id": "afc19209",
   "metadata": {},
   "outputs": [],
   "source": [
    "movies.rename(columns={'stemming':'tags'},inplace=t)"
   ]
  },
  {
   "cell_type": "code",
   "execution_count": null,
   "id": "7fffce78",
   "metadata": {},
   "outputs": [],
   "source": [
    "movies"
   ]
  },
  {
   "cell_type": "code",
   "execution_count": null,
   "id": "027f0dc7",
   "metadata": {},
   "outputs": [],
   "source": [
    "movies['tags'] = movies['tags'].apply(lambda x: \" \".join(x))"
   ]
  },
  {
   "cell_type": "markdown",
   "id": "c8308a45",
   "metadata": {},
   "source": [
    "# keyword reccomendation using knn "
   ]
  },
  {
   "cell_type": "code",
   "execution_count": null,
   "id": "fbd47593",
   "metadata": {},
   "outputs": [],
   "source": [
    "from sklearn.feature_extraction.text import CountVectorizer"
   ]
  },
  {
   "cell_type": "code",
   "execution_count": null,
   "id": "80841535",
   "metadata": {},
   "outputs": [],
   "source": [
    "cv = CountVectorizer(max_features=5000)"
   ]
  },
  {
   "cell_type": "code",
   "execution_count": null,
   "id": "eb59d0fa",
   "metadata": {},
   "outputs": [],
   "source": [
    "vectors = cv.fit_transform(movies['tags']).toarray()"
   ]
  },
  {
   "cell_type": "code",
   "execution_count": null,
   "id": "3737b5be",
   "metadata": {},
   "outputs": [],
   "source": [
    "vectors[0]"
   ]
  },
  {
   "cell_type": "code",
   "execution_count": null,
   "id": "8cf17e88",
   "metadata": {},
   "outputs": [],
   "source": [
    "cv.get_feature_names()"
   ]
  },
  {
   "cell_type": "code",
   "execution_count": null,
   "id": "8a49e7da",
   "metadata": {},
   "outputs": [],
   "source": [
    "keyword_recommend = pd.DataFrame(vectors,columns=cv.get_feature_names())"
   ]
  },
  {
   "cell_type": "code",
   "execution_count": null,
   "id": "eaa517ba",
   "metadata": {},
   "outputs": [],
   "source": [
    "keyword_recommend['title'] = movies['title']\n",
    "keyword_recommend['movie_id'] = movies['movie_id']"
   ]
  },
  {
   "cell_type": "code",
   "execution_count": null,
   "id": "e79960bc",
   "metadata": {},
   "outputs": [],
   "source": [
    "pd.set_option('display.max_columns',None)\n",
    "pd.set_option('display.max_rows',None)"
   ]
  },
  {
   "cell_type": "code",
   "execution_count": null,
   "id": "ca61a38c",
   "metadata": {},
   "outputs": [],
   "source": [
    "keyword_recommend = keyword_recommend.set_index('title')"
   ]
  },
  {
   "cell_type": "markdown",
   "id": "ef5a318f",
   "metadata": {
    "scrolled": false
   },
   "source": [
    "# keyword_recommend"
   ]
  },
  {
   "cell_type": "code",
   "execution_count": null,
   "id": "75ae5f11",
   "metadata": {},
   "outputs": [],
   "source": [
    "from sklearn.neighbors import NearestNeighbors"
   ]
  },
  {
   "cell_type": "code",
   "execution_count": null,
   "id": "1da58916",
   "metadata": {},
   "outputs": [],
   "source": [
    "nneighbor = NearestNeighbors()"
   ]
  },
  {
   "cell_type": "code",
   "execution_count": null,
   "id": "96505a53",
   "metadata": {},
   "outputs": [],
   "source": [
    "nneighbor.fit(keyword_recommend)"
   ]
  },
  {
   "cell_type": "code",
   "execution_count": null,
   "id": "a217be76",
   "metadata": {},
   "outputs": [],
   "source": [
    "distance , index = nneighbor.kneighbors(keyword_recommend.iloc[[3422]],n_neighbors=10)"
   ]
  },
  {
   "cell_type": "code",
   "execution_count": null,
   "id": "02d093bf",
   "metadata": {},
   "outputs": [],
   "source": [
    "keyword_recommend.iloc[[3422]].index"
   ]
  },
  {
   "cell_type": "code",
   "execution_count": null,
   "id": "3ad1de02",
   "metadata": {},
   "outputs": [],
   "source": [
    "title_dataframe = pd.DataFrame(keyword_recommend.index)"
   ]
  },
  {
   "cell_type": "code",
   "execution_count": null,
   "id": "7e803a8e",
   "metadata": {},
   "outputs": [],
   "source": [
    "rec_movie_name = []\n",
    "for i in index[0]:\n",
    "    rec_movie_name.append(title_dataframe['title'].iloc[[i]].values)\n",
    "rec_movie_name = np.ravel(rec_movie_name).tolist()\n",
    "#print(rec_movie_name[1:])"
   ]
  },
  {
   "cell_type": "code",
   "execution_count": null,
   "id": "e8babb4c",
   "metadata": {},
   "outputs": [],
   "source": [
    "for i in range(1, len(rec_movie_name)):\n",
    "    print(f\"{i}.) => {rec_movie_name[i]}\")\n",
    "    print('-----------------------------')"
   ]
  },
  {
   "cell_type": "markdown",
   "id": "3894a89f",
   "metadata": {},
   "source": [
    "# movie recommendation through cosign distance"
   ]
  },
  {
   "cell_type": "code",
   "execution_count": null,
   "id": "7bfc07d4",
   "metadata": {},
   "outputs": [],
   "source": [
    "from sklearn.metrics.pairwise import cosine_similarity"
   ]
  },
  {
   "cell_type": "code",
   "execution_count": null,
   "id": "247e06a1",
   "metadata": {},
   "outputs": [],
   "source": [
    "similarities = cosine_similarity(vectors)"
   ]
  },
  {
   "cell_type": "code",
   "execution_count": null,
   "id": "9c5eac19",
   "metadata": {},
   "outputs": [],
   "source": [
    "similarities.shape"
   ]
  },
  {
   "cell_type": "code",
   "execution_count": null,
   "id": "9444c343",
   "metadata": {},
   "outputs": [],
   "source": [
    "similarities"
   ]
  },
  {
   "cell_type": "code",
   "execution_count": null,
   "id": "ebbb2378",
   "metadata": {},
   "outputs": [],
   "source": [
    "def recommend(movie):\n",
    "    movie_index = movies[movies['title'] == movie].index[0]\n",
    "    distances = similarities[movie_index]\n",
    "    movies_list = sorted(list(enumerate(distances)),reverse=t,key=lambda x:x[-1])[1:11]\n",
    "    movie_count = 0\n",
    "    for i in movies_list:\n",
    "        print(f\"{movie_count+1}.) => {movies['title'].iloc[i[0]]}\")\n",
    "        movie_count+=1\n",
    "        print('-----------------------------')"
   ]
  },
  {
   "cell_type": "code",
   "execution_count": null,
   "id": "ba1cd2da",
   "metadata": {
    "scrolled": true
   },
   "outputs": [],
   "source": [
    "recommend('The Amazing Spider-Man 2')"
   ]
  },
  {
   "cell_type": "markdown",
   "id": "2cfca88e",
   "metadata": {},
   "source": [
    "# movie recommend on the basis of rating / users rating using KNN"
   ]
  },
  {
   "cell_type": "code",
   "execution_count": null,
   "id": "be4fa15e",
   "metadata": {},
   "outputs": [],
   "source": [
    "movies"
   ]
  },
  {
   "cell_type": "code",
   "execution_count": null,
   "id": "38d60859",
   "metadata": {},
   "outputs": [],
   "source": [
    "ratings = pd.pivot_table(movies,index=\"title\",columns=\"vote_count\",values=\"rating\",aggfunc=\"sum\",fill_value=0)"
   ]
  },
  {
   "cell_type": "code",
   "execution_count": null,
   "id": "d988f3fc",
   "metadata": {
    "scrolled": true
   },
   "outputs": [],
   "source": [
    "ratings.shape"
   ]
  },
  {
   "cell_type": "code",
   "execution_count": null,
   "id": "571b6cfa",
   "metadata": {},
   "outputs": [],
   "source": [
    "from sklearn.neighbors import NearestNeighbors"
   ]
  },
  {
   "cell_type": "code",
   "execution_count": null,
   "id": "e133dffb",
   "metadata": {},
   "outputs": [],
   "source": [
    "knn = NearestNeighbors()"
   ]
  },
  {
   "cell_type": "code",
   "execution_count": null,
   "id": "b55d3870",
   "metadata": {},
   "outputs": [],
   "source": [
    "knn.fit(ratings)"
   ]
  },
  {
   "cell_type": "code",
   "execution_count": null,
   "id": "7c309012",
   "metadata": {},
   "outputs": [],
   "source": [
    "rate_distance,rate_index = knn.kneighbors(ratings.iloc[[1]],n_neighbors=11)"
   ]
  },
  {
   "cell_type": "code",
   "execution_count": null,
   "id": "8dfb42ab",
   "metadata": {},
   "outputs": [],
   "source": [
    "rate_distance = np.ravel(rate_distance).tolist()\n",
    "rate_distance"
   ]
  },
  {
   "cell_type": "code",
   "execution_count": null,
   "id": "f574e30b",
   "metadata": {},
   "outputs": [],
   "source": [
    "rate_index = np.ravel(rate_index).tolist()\n",
    "rate_index"
   ]
  },
  {
   "cell_type": "code",
   "execution_count": null,
   "id": "2f82496c",
   "metadata": {
    "scrolled": true
   },
   "outputs": [],
   "source": [
    "count_new = 0\n",
    "for i in rate_index:\n",
    "    if count_new == 0:\n",
    "        pass\n",
    "    else:\n",
    "        #print(f\"{count_new}.) => {ratings.iloc[[i+1]].index[0]} => {movies['rating'].iloc[[i]].values} => at index {count_new}\")\n",
    "        print(f\"{count_new}.) => {ratings.iloc[[i]].index[0]} => {movies['rating'].iloc[[i]].values} having movie_id => {i}\")\n",
    "    count_new+=1"
   ]
  },
  {
   "cell_type": "markdown",
   "id": "3002ca6c",
   "metadata": {},
   "source": [
    "# "
   ]
  },
  {
   "cell_type": "code",
   "execution_count": null,
   "id": "b8170a5c",
   "metadata": {
    "scrolled": true
   },
   "outputs": [],
   "source": [
    "movies.iloc[[342]]"
   ]
  },
  {
   "cell_type": "code",
   "execution_count": null,
   "id": "511901ea",
   "metadata": {},
   "outputs": [],
   "source": []
  }
 ],
 "metadata": {
  "kernelspec": {
   "display_name": "Python 3 (ipykernel)",
   "language": "python",
   "name": "python3"
  },
  "language_info": {
   "codemirror_mode": {
    "name": "ipython",
    "version": 3
   },
   "file_extension": ".py",
   "mimetype": "text/x-python",
   "name": "python",
   "nbconvert_exporter": "python",
   "pygments_lexer": "ipython3",
   "version": "3.11.3"
  }
 },
 "nbformat": 4,
 "nbformat_minor": 5
}
